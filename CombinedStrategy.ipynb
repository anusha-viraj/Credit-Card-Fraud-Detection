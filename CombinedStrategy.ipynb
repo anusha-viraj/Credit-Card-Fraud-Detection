{
  "nbformat": 4,
  "nbformat_minor": 0,
  "metadata": {
    "colab": {
      "name": "CombinedStrategy.ipynb",
      "provenance": [],
      "toc_visible": true
    },
    "kernelspec": {
      "name": "python3",
      "display_name": "Python 3"
    },
    "language_info": {
      "name": "python"
    },
    "accelerator": "GPU"
  },
  "cells": [
    {
      "cell_type": "markdown",
      "metadata": {
        "id": "3hVVDuyfSwdZ"
      },
      "source": [
        "## **Import Libraries**"
      ]
    },
    {
      "cell_type": "code",
      "metadata": {
        "id": "l-XZaPquVRH5",
        "colab": {
          "base_uri": "https://localhost:8080/"
        },
        "outputId": "67c6ed8c-3d81-4d4b-d637-41b47b5a5e29"
      },
      "source": [
        "!pip install catboost"
      ],
      "execution_count": 1,
      "outputs": [
        {
          "output_type": "stream",
          "text": [
            "Collecting catboost\n",
            "\u001b[?25l  Downloading https://files.pythonhosted.org/packages/5a/41/24e14322b9986cf72a8763e0a0a69cc256cf963cf9502c8f0044a62c1ae8/catboost-0.26-cp37-none-manylinux1_x86_64.whl (69.2MB)\n",
            "\u001b[K     |████████████████████████████████| 69.2MB 39kB/s \n",
            "\u001b[?25hRequirement already satisfied: pandas>=0.24.0 in /usr/local/lib/python3.7/dist-packages (from catboost) (1.1.5)\n",
            "Requirement already satisfied: numpy>=1.16.0 in /usr/local/lib/python3.7/dist-packages (from catboost) (1.19.5)\n",
            "Requirement already satisfied: matplotlib in /usr/local/lib/python3.7/dist-packages (from catboost) (3.2.2)\n",
            "Requirement already satisfied: six in /usr/local/lib/python3.7/dist-packages (from catboost) (1.15.0)\n",
            "Requirement already satisfied: plotly in /usr/local/lib/python3.7/dist-packages (from catboost) (4.4.1)\n",
            "Requirement already satisfied: scipy in /usr/local/lib/python3.7/dist-packages (from catboost) (1.4.1)\n",
            "Requirement already satisfied: graphviz in /usr/local/lib/python3.7/dist-packages (from catboost) (0.10.1)\n",
            "Requirement already satisfied: python-dateutil>=2.7.3 in /usr/local/lib/python3.7/dist-packages (from pandas>=0.24.0->catboost) (2.8.1)\n",
            "Requirement already satisfied: pytz>=2017.2 in /usr/local/lib/python3.7/dist-packages (from pandas>=0.24.0->catboost) (2018.9)\n",
            "Requirement already satisfied: cycler>=0.10 in /usr/local/lib/python3.7/dist-packages (from matplotlib->catboost) (0.10.0)\n",
            "Requirement already satisfied: pyparsing!=2.0.4,!=2.1.2,!=2.1.6,>=2.0.1 in /usr/local/lib/python3.7/dist-packages (from matplotlib->catboost) (2.4.7)\n",
            "Requirement already satisfied: kiwisolver>=1.0.1 in /usr/local/lib/python3.7/dist-packages (from matplotlib->catboost) (1.3.1)\n",
            "Requirement already satisfied: retrying>=1.3.3 in /usr/local/lib/python3.7/dist-packages (from plotly->catboost) (1.3.3)\n",
            "Installing collected packages: catboost\n",
            "Successfully installed catboost-0.26\n"
          ],
          "name": "stdout"
        }
      ]
    },
    {
      "cell_type": "code",
      "metadata": {
        "id": "3ZkIugnWQqLu"
      },
      "source": [
        "import numpy as np\n",
        "import pandas as pd\n",
        "import seaborn as sns\n",
        "import matplotlib.pyplot as plt\n",
        "%matplotlib inline\n",
        "\n",
        "from statsmodels.stats.outliers_influence import variance_inflation_factor\n",
        "from sklearn.feature_selection import RFE\n",
        "from sklearn.feature_selection import SelectFromModel\n",
        "\n",
        "from sklearn.model_selection import train_test_split\n",
        "from sklearn.model_selection import GridSearchCV\n",
        "from sklearn.model_selection import RandomizedSearchCV\n",
        "\n",
        "from sklearn.ensemble import RandomForestClassifier\n",
        "\n",
        "from imblearn.under_sampling import RandomUnderSampler\n",
        "from imblearn.over_sampling import SMOTE\n",
        "from imblearn.pipeline import make_pipeline as imbalanced_make_pipeline\n",
        "\n",
        "from sklearn.metrics import precision_recall_curve\n",
        "from sklearn.metrics import accuracy_score\n",
        "from sklearn.metrics import recall_score\n",
        "from sklearn.metrics import auc\n",
        "from sklearn.metrics import confusion_matrix\n",
        "from sklearn.metrics import classification_report\n",
        "from sklearn.metrics import roc_curve\n",
        "from sklearn.metrics import roc_auc_score\n",
        "from sklearn.metrics import precision_score\n",
        "from sklearn.metrics import f1_score\n",
        "\n",
        "from IPython.display import display, HTML\n",
        "\n",
        "from sklearn.linear_model import LogisticRegression\n",
        "from sklearn.svm import SVC\n",
        "from sklearn.neighbors import KNeighborsClassifier\n",
        "from sklearn.tree import DecisionTreeClassifier\n",
        "from xgboost import XGBClassifier\n",
        "from xgboost import XGBRFClassifier\n",
        "from catboost import CatBoostClassifier\n",
        "from sklearn.ensemble import BaggingClassifier\n",
        "from sklearn.ensemble import RandomForestClassifier\n",
        "from sklearn.ensemble import ExtraTreesClassifier\n",
        "from sklearn.ensemble import GradientBoostingClassifier\n",
        "from sklearn.ensemble import VotingClassifier\n",
        "from sklearn.ensemble import StackingClassifier\n",
        "from lightgbm import LGBMClassifier\n",
        "\n",
        "from sklearn.pipeline import Pipeline\n",
        "from sklearn.pipeline import make_pipeline\n",
        "\n",
        "from sklearn.model_selection import KFold\n",
        "from sklearn.model_selection import cross_val_score\n",
        "from sklearn.model_selection import StratifiedShuffleSplit\n",
        "from sklearn.model_selection import StratifiedKFold\n",
        "\n",
        "from sklearn.preprocessing import  RobustScaler\n",
        "\n",
        "import tensorflow as tf\n",
        "\n",
        "from sklearn.manifold import TSNE\n",
        "import time\n",
        "import matplotlib.patches as mpatches\n",
        "\n",
        "pd.set_option('display.max_rows', 500)\n",
        "pd.set_option('display.max_columns', 500)\n",
        "pd.set_option('display.width', 1000)\n",
        "import os\n",
        "\n",
        "import warnings\n",
        "warnings.filterwarnings(\"ignore\")"
      ],
      "execution_count": 99,
      "outputs": []
    },
    {
      "cell_type": "code",
      "metadata": {
        "colab": {
          "base_uri": "https://localhost:8080/"
        },
        "id": "YRENSBc__bEQ",
        "outputId": "1d848acb-6e0a-47d6-9561-0b6c58e5020b"
      },
      "source": [
        "from google.colab import drive\n",
        "drive.mount(\"/content/drive\")"
      ],
      "execution_count": 3,
      "outputs": [
        {
          "output_type": "stream",
          "text": [
            "Mounted at /content/drive\n"
          ],
          "name": "stdout"
        }
      ]
    },
    {
      "cell_type": "code",
      "metadata": {
        "id": "wa7_iWLl_emO",
        "colab": {
          "base_uri": "https://localhost:8080/",
          "height": 224
        },
        "outputId": "0822e9a0-7e53-4b9b-9736-c9a40881aea0"
      },
      "source": [
        "train = pd.read_csv(\"/content/drive/My Drive/Kaggle/CreditCardFraud/creditcard.csv\")\n",
        "train.head()"
      ],
      "execution_count": 4,
      "outputs": [
        {
          "output_type": "execute_result",
          "data": {
            "text/html": [
              "<div>\n",
              "<style scoped>\n",
              "    .dataframe tbody tr th:only-of-type {\n",
              "        vertical-align: middle;\n",
              "    }\n",
              "\n",
              "    .dataframe tbody tr th {\n",
              "        vertical-align: top;\n",
              "    }\n",
              "\n",
              "    .dataframe thead th {\n",
              "        text-align: right;\n",
              "    }\n",
              "</style>\n",
              "<table border=\"1\" class=\"dataframe\">\n",
              "  <thead>\n",
              "    <tr style=\"text-align: right;\">\n",
              "      <th></th>\n",
              "      <th>Time</th>\n",
              "      <th>V1</th>\n",
              "      <th>V2</th>\n",
              "      <th>V3</th>\n",
              "      <th>V4</th>\n",
              "      <th>V5</th>\n",
              "      <th>V6</th>\n",
              "      <th>V7</th>\n",
              "      <th>V8</th>\n",
              "      <th>V9</th>\n",
              "      <th>V10</th>\n",
              "      <th>V11</th>\n",
              "      <th>V12</th>\n",
              "      <th>V13</th>\n",
              "      <th>V14</th>\n",
              "      <th>V15</th>\n",
              "      <th>V16</th>\n",
              "      <th>V17</th>\n",
              "      <th>V18</th>\n",
              "      <th>V19</th>\n",
              "      <th>V20</th>\n",
              "      <th>V21</th>\n",
              "      <th>V22</th>\n",
              "      <th>V23</th>\n",
              "      <th>V24</th>\n",
              "      <th>V25</th>\n",
              "      <th>V26</th>\n",
              "      <th>V27</th>\n",
              "      <th>V28</th>\n",
              "      <th>Amount</th>\n",
              "      <th>Class</th>\n",
              "    </tr>\n",
              "  </thead>\n",
              "  <tbody>\n",
              "    <tr>\n",
              "      <th>0</th>\n",
              "      <td>0.0</td>\n",
              "      <td>-1.359807</td>\n",
              "      <td>-0.072781</td>\n",
              "      <td>2.536347</td>\n",
              "      <td>1.378155</td>\n",
              "      <td>-0.338321</td>\n",
              "      <td>0.462388</td>\n",
              "      <td>0.239599</td>\n",
              "      <td>0.098698</td>\n",
              "      <td>0.363787</td>\n",
              "      <td>0.090794</td>\n",
              "      <td>-0.551600</td>\n",
              "      <td>-0.617801</td>\n",
              "      <td>-0.991390</td>\n",
              "      <td>-0.311169</td>\n",
              "      <td>1.468177</td>\n",
              "      <td>-0.470401</td>\n",
              "      <td>0.207971</td>\n",
              "      <td>0.025791</td>\n",
              "      <td>0.403993</td>\n",
              "      <td>0.251412</td>\n",
              "      <td>-0.018307</td>\n",
              "      <td>0.277838</td>\n",
              "      <td>-0.110474</td>\n",
              "      <td>0.066928</td>\n",
              "      <td>0.128539</td>\n",
              "      <td>-0.189115</td>\n",
              "      <td>0.133558</td>\n",
              "      <td>-0.021053</td>\n",
              "      <td>149.62</td>\n",
              "      <td>0</td>\n",
              "    </tr>\n",
              "    <tr>\n",
              "      <th>1</th>\n",
              "      <td>0.0</td>\n",
              "      <td>1.191857</td>\n",
              "      <td>0.266151</td>\n",
              "      <td>0.166480</td>\n",
              "      <td>0.448154</td>\n",
              "      <td>0.060018</td>\n",
              "      <td>-0.082361</td>\n",
              "      <td>-0.078803</td>\n",
              "      <td>0.085102</td>\n",
              "      <td>-0.255425</td>\n",
              "      <td>-0.166974</td>\n",
              "      <td>1.612727</td>\n",
              "      <td>1.065235</td>\n",
              "      <td>0.489095</td>\n",
              "      <td>-0.143772</td>\n",
              "      <td>0.635558</td>\n",
              "      <td>0.463917</td>\n",
              "      <td>-0.114805</td>\n",
              "      <td>-0.183361</td>\n",
              "      <td>-0.145783</td>\n",
              "      <td>-0.069083</td>\n",
              "      <td>-0.225775</td>\n",
              "      <td>-0.638672</td>\n",
              "      <td>0.101288</td>\n",
              "      <td>-0.339846</td>\n",
              "      <td>0.167170</td>\n",
              "      <td>0.125895</td>\n",
              "      <td>-0.008983</td>\n",
              "      <td>0.014724</td>\n",
              "      <td>2.69</td>\n",
              "      <td>0</td>\n",
              "    </tr>\n",
              "    <tr>\n",
              "      <th>2</th>\n",
              "      <td>1.0</td>\n",
              "      <td>-1.358354</td>\n",
              "      <td>-1.340163</td>\n",
              "      <td>1.773209</td>\n",
              "      <td>0.379780</td>\n",
              "      <td>-0.503198</td>\n",
              "      <td>1.800499</td>\n",
              "      <td>0.791461</td>\n",
              "      <td>0.247676</td>\n",
              "      <td>-1.514654</td>\n",
              "      <td>0.207643</td>\n",
              "      <td>0.624501</td>\n",
              "      <td>0.066084</td>\n",
              "      <td>0.717293</td>\n",
              "      <td>-0.165946</td>\n",
              "      <td>2.345865</td>\n",
              "      <td>-2.890083</td>\n",
              "      <td>1.109969</td>\n",
              "      <td>-0.121359</td>\n",
              "      <td>-2.261857</td>\n",
              "      <td>0.524980</td>\n",
              "      <td>0.247998</td>\n",
              "      <td>0.771679</td>\n",
              "      <td>0.909412</td>\n",
              "      <td>-0.689281</td>\n",
              "      <td>-0.327642</td>\n",
              "      <td>-0.139097</td>\n",
              "      <td>-0.055353</td>\n",
              "      <td>-0.059752</td>\n",
              "      <td>378.66</td>\n",
              "      <td>0</td>\n",
              "    </tr>\n",
              "    <tr>\n",
              "      <th>3</th>\n",
              "      <td>1.0</td>\n",
              "      <td>-0.966272</td>\n",
              "      <td>-0.185226</td>\n",
              "      <td>1.792993</td>\n",
              "      <td>-0.863291</td>\n",
              "      <td>-0.010309</td>\n",
              "      <td>1.247203</td>\n",
              "      <td>0.237609</td>\n",
              "      <td>0.377436</td>\n",
              "      <td>-1.387024</td>\n",
              "      <td>-0.054952</td>\n",
              "      <td>-0.226487</td>\n",
              "      <td>0.178228</td>\n",
              "      <td>0.507757</td>\n",
              "      <td>-0.287924</td>\n",
              "      <td>-0.631418</td>\n",
              "      <td>-1.059647</td>\n",
              "      <td>-0.684093</td>\n",
              "      <td>1.965775</td>\n",
              "      <td>-1.232622</td>\n",
              "      <td>-0.208038</td>\n",
              "      <td>-0.108300</td>\n",
              "      <td>0.005274</td>\n",
              "      <td>-0.190321</td>\n",
              "      <td>-1.175575</td>\n",
              "      <td>0.647376</td>\n",
              "      <td>-0.221929</td>\n",
              "      <td>0.062723</td>\n",
              "      <td>0.061458</td>\n",
              "      <td>123.50</td>\n",
              "      <td>0</td>\n",
              "    </tr>\n",
              "    <tr>\n",
              "      <th>4</th>\n",
              "      <td>2.0</td>\n",
              "      <td>-1.158233</td>\n",
              "      <td>0.877737</td>\n",
              "      <td>1.548718</td>\n",
              "      <td>0.403034</td>\n",
              "      <td>-0.407193</td>\n",
              "      <td>0.095921</td>\n",
              "      <td>0.592941</td>\n",
              "      <td>-0.270533</td>\n",
              "      <td>0.817739</td>\n",
              "      <td>0.753074</td>\n",
              "      <td>-0.822843</td>\n",
              "      <td>0.538196</td>\n",
              "      <td>1.345852</td>\n",
              "      <td>-1.119670</td>\n",
              "      <td>0.175121</td>\n",
              "      <td>-0.451449</td>\n",
              "      <td>-0.237033</td>\n",
              "      <td>-0.038195</td>\n",
              "      <td>0.803487</td>\n",
              "      <td>0.408542</td>\n",
              "      <td>-0.009431</td>\n",
              "      <td>0.798278</td>\n",
              "      <td>-0.137458</td>\n",
              "      <td>0.141267</td>\n",
              "      <td>-0.206010</td>\n",
              "      <td>0.502292</td>\n",
              "      <td>0.219422</td>\n",
              "      <td>0.215153</td>\n",
              "      <td>69.99</td>\n",
              "      <td>0</td>\n",
              "    </tr>\n",
              "  </tbody>\n",
              "</table>\n",
              "</div>"
            ],
            "text/plain": [
              "   Time        V1        V2        V3        V4        V5        V6        V7        V8        V9       V10       V11       V12       V13       V14       V15       V16       V17       V18       V19       V20       V21       V22       V23       V24       V25       V26       V27       V28  Amount  Class\n",
              "0   0.0 -1.359807 -0.072781  2.536347  1.378155 -0.338321  0.462388  0.239599  0.098698  0.363787  0.090794 -0.551600 -0.617801 -0.991390 -0.311169  1.468177 -0.470401  0.207971  0.025791  0.403993  0.251412 -0.018307  0.277838 -0.110474  0.066928  0.128539 -0.189115  0.133558 -0.021053  149.62      0\n",
              "1   0.0  1.191857  0.266151  0.166480  0.448154  0.060018 -0.082361 -0.078803  0.085102 -0.255425 -0.166974  1.612727  1.065235  0.489095 -0.143772  0.635558  0.463917 -0.114805 -0.183361 -0.145783 -0.069083 -0.225775 -0.638672  0.101288 -0.339846  0.167170  0.125895 -0.008983  0.014724    2.69      0\n",
              "2   1.0 -1.358354 -1.340163  1.773209  0.379780 -0.503198  1.800499  0.791461  0.247676 -1.514654  0.207643  0.624501  0.066084  0.717293 -0.165946  2.345865 -2.890083  1.109969 -0.121359 -2.261857  0.524980  0.247998  0.771679  0.909412 -0.689281 -0.327642 -0.139097 -0.055353 -0.059752  378.66      0\n",
              "3   1.0 -0.966272 -0.185226  1.792993 -0.863291 -0.010309  1.247203  0.237609  0.377436 -1.387024 -0.054952 -0.226487  0.178228  0.507757 -0.287924 -0.631418 -1.059647 -0.684093  1.965775 -1.232622 -0.208038 -0.108300  0.005274 -0.190321 -1.175575  0.647376 -0.221929  0.062723  0.061458  123.50      0\n",
              "4   2.0 -1.158233  0.877737  1.548718  0.403034 -0.407193  0.095921  0.592941 -0.270533  0.817739  0.753074 -0.822843  0.538196  1.345852 -1.119670  0.175121 -0.451449 -0.237033 -0.038195  0.803487  0.408542 -0.009431  0.798278 -0.137458  0.141267 -0.206010  0.502292  0.219422  0.215153   69.99      0"
            ]
          },
          "metadata": {
            "tags": []
          },
          "execution_count": 4
        }
      ]
    },
    {
      "cell_type": "markdown",
      "metadata": {
        "id": "j7sf3tptnzZ_"
      },
      "source": [
        "## **EDA**"
      ]
    },
    {
      "cell_type": "code",
      "metadata": {
        "colab": {
          "base_uri": "https://localhost:8080/"
        },
        "id": "uVVcei_rnazc",
        "outputId": "a0200880-be1e-4f18-994e-39d3fa801e75"
      },
      "source": [
        "print(\"Total no of records present in data is {} and total no of features are {}\".format(train.shape[0],train.shape[1]))"
      ],
      "execution_count": 5,
      "outputs": [
        {
          "output_type": "stream",
          "text": [
            "Total no of records present in data is 284807 and total no of features are 31\n"
          ],
          "name": "stdout"
        }
      ]
    },
    {
      "cell_type": "code",
      "metadata": {
        "colab": {
          "base_uri": "https://localhost:8080/",
          "height": 1000
        },
        "id": "2cVC2NtDlwy-",
        "outputId": "243cc61d-4c83-44f9-8aef-1d62c1696222"
      },
      "source": [
        "train.describe().T"
      ],
      "execution_count": 6,
      "outputs": [
        {
          "output_type": "execute_result",
          "data": {
            "text/html": [
              "<div>\n",
              "<style scoped>\n",
              "    .dataframe tbody tr th:only-of-type {\n",
              "        vertical-align: middle;\n",
              "    }\n",
              "\n",
              "    .dataframe tbody tr th {\n",
              "        vertical-align: top;\n",
              "    }\n",
              "\n",
              "    .dataframe thead th {\n",
              "        text-align: right;\n",
              "    }\n",
              "</style>\n",
              "<table border=\"1\" class=\"dataframe\">\n",
              "  <thead>\n",
              "    <tr style=\"text-align: right;\">\n",
              "      <th></th>\n",
              "      <th>count</th>\n",
              "      <th>mean</th>\n",
              "      <th>std</th>\n",
              "      <th>min</th>\n",
              "      <th>25%</th>\n",
              "      <th>50%</th>\n",
              "      <th>75%</th>\n",
              "      <th>max</th>\n",
              "    </tr>\n",
              "  </thead>\n",
              "  <tbody>\n",
              "    <tr>\n",
              "      <th>Time</th>\n",
              "      <td>284807.0</td>\n",
              "      <td>9.481386e+04</td>\n",
              "      <td>47488.145955</td>\n",
              "      <td>0.000000</td>\n",
              "      <td>54201.500000</td>\n",
              "      <td>84692.000000</td>\n",
              "      <td>139320.500000</td>\n",
              "      <td>172792.000000</td>\n",
              "    </tr>\n",
              "    <tr>\n",
              "      <th>V1</th>\n",
              "      <td>284807.0</td>\n",
              "      <td>3.919560e-15</td>\n",
              "      <td>1.958696</td>\n",
              "      <td>-56.407510</td>\n",
              "      <td>-0.920373</td>\n",
              "      <td>0.018109</td>\n",
              "      <td>1.315642</td>\n",
              "      <td>2.454930</td>\n",
              "    </tr>\n",
              "    <tr>\n",
              "      <th>V2</th>\n",
              "      <td>284807.0</td>\n",
              "      <td>5.688174e-16</td>\n",
              "      <td>1.651309</td>\n",
              "      <td>-72.715728</td>\n",
              "      <td>-0.598550</td>\n",
              "      <td>0.065486</td>\n",
              "      <td>0.803724</td>\n",
              "      <td>22.057729</td>\n",
              "    </tr>\n",
              "    <tr>\n",
              "      <th>V3</th>\n",
              "      <td>284807.0</td>\n",
              "      <td>-8.769071e-15</td>\n",
              "      <td>1.516255</td>\n",
              "      <td>-48.325589</td>\n",
              "      <td>-0.890365</td>\n",
              "      <td>0.179846</td>\n",
              "      <td>1.027196</td>\n",
              "      <td>9.382558</td>\n",
              "    </tr>\n",
              "    <tr>\n",
              "      <th>V4</th>\n",
              "      <td>284807.0</td>\n",
              "      <td>2.782312e-15</td>\n",
              "      <td>1.415869</td>\n",
              "      <td>-5.683171</td>\n",
              "      <td>-0.848640</td>\n",
              "      <td>-0.019847</td>\n",
              "      <td>0.743341</td>\n",
              "      <td>16.875344</td>\n",
              "    </tr>\n",
              "    <tr>\n",
              "      <th>V5</th>\n",
              "      <td>284807.0</td>\n",
              "      <td>-1.552563e-15</td>\n",
              "      <td>1.380247</td>\n",
              "      <td>-113.743307</td>\n",
              "      <td>-0.691597</td>\n",
              "      <td>-0.054336</td>\n",
              "      <td>0.611926</td>\n",
              "      <td>34.801666</td>\n",
              "    </tr>\n",
              "    <tr>\n",
              "      <th>V6</th>\n",
              "      <td>284807.0</td>\n",
              "      <td>2.010663e-15</td>\n",
              "      <td>1.332271</td>\n",
              "      <td>-26.160506</td>\n",
              "      <td>-0.768296</td>\n",
              "      <td>-0.274187</td>\n",
              "      <td>0.398565</td>\n",
              "      <td>73.301626</td>\n",
              "    </tr>\n",
              "    <tr>\n",
              "      <th>V7</th>\n",
              "      <td>284807.0</td>\n",
              "      <td>-1.694249e-15</td>\n",
              "      <td>1.237094</td>\n",
              "      <td>-43.557242</td>\n",
              "      <td>-0.554076</td>\n",
              "      <td>0.040103</td>\n",
              "      <td>0.570436</td>\n",
              "      <td>120.589494</td>\n",
              "    </tr>\n",
              "    <tr>\n",
              "      <th>V8</th>\n",
              "      <td>284807.0</td>\n",
              "      <td>-1.927028e-16</td>\n",
              "      <td>1.194353</td>\n",
              "      <td>-73.216718</td>\n",
              "      <td>-0.208630</td>\n",
              "      <td>0.022358</td>\n",
              "      <td>0.327346</td>\n",
              "      <td>20.007208</td>\n",
              "    </tr>\n",
              "    <tr>\n",
              "      <th>V9</th>\n",
              "      <td>284807.0</td>\n",
              "      <td>-3.137024e-15</td>\n",
              "      <td>1.098632</td>\n",
              "      <td>-13.434066</td>\n",
              "      <td>-0.643098</td>\n",
              "      <td>-0.051429</td>\n",
              "      <td>0.597139</td>\n",
              "      <td>15.594995</td>\n",
              "    </tr>\n",
              "    <tr>\n",
              "      <th>V10</th>\n",
              "      <td>284807.0</td>\n",
              "      <td>1.768627e-15</td>\n",
              "      <td>1.088850</td>\n",
              "      <td>-24.588262</td>\n",
              "      <td>-0.535426</td>\n",
              "      <td>-0.092917</td>\n",
              "      <td>0.453923</td>\n",
              "      <td>23.745136</td>\n",
              "    </tr>\n",
              "    <tr>\n",
              "      <th>V11</th>\n",
              "      <td>284807.0</td>\n",
              "      <td>9.170318e-16</td>\n",
              "      <td>1.020713</td>\n",
              "      <td>-4.797473</td>\n",
              "      <td>-0.762494</td>\n",
              "      <td>-0.032757</td>\n",
              "      <td>0.739593</td>\n",
              "      <td>12.018913</td>\n",
              "    </tr>\n",
              "    <tr>\n",
              "      <th>V12</th>\n",
              "      <td>284807.0</td>\n",
              "      <td>-1.810658e-15</td>\n",
              "      <td>0.999201</td>\n",
              "      <td>-18.683715</td>\n",
              "      <td>-0.405571</td>\n",
              "      <td>0.140033</td>\n",
              "      <td>0.618238</td>\n",
              "      <td>7.848392</td>\n",
              "    </tr>\n",
              "    <tr>\n",
              "      <th>V13</th>\n",
              "      <td>284807.0</td>\n",
              "      <td>1.693438e-15</td>\n",
              "      <td>0.995274</td>\n",
              "      <td>-5.791881</td>\n",
              "      <td>-0.648539</td>\n",
              "      <td>-0.013568</td>\n",
              "      <td>0.662505</td>\n",
              "      <td>7.126883</td>\n",
              "    </tr>\n",
              "    <tr>\n",
              "      <th>V14</th>\n",
              "      <td>284807.0</td>\n",
              "      <td>1.479045e-15</td>\n",
              "      <td>0.958596</td>\n",
              "      <td>-19.214325</td>\n",
              "      <td>-0.425574</td>\n",
              "      <td>0.050601</td>\n",
              "      <td>0.493150</td>\n",
              "      <td>10.526766</td>\n",
              "    </tr>\n",
              "    <tr>\n",
              "      <th>V15</th>\n",
              "      <td>284807.0</td>\n",
              "      <td>3.482336e-15</td>\n",
              "      <td>0.915316</td>\n",
              "      <td>-4.498945</td>\n",
              "      <td>-0.582884</td>\n",
              "      <td>0.048072</td>\n",
              "      <td>0.648821</td>\n",
              "      <td>8.877742</td>\n",
              "    </tr>\n",
              "    <tr>\n",
              "      <th>V16</th>\n",
              "      <td>284807.0</td>\n",
              "      <td>1.392007e-15</td>\n",
              "      <td>0.876253</td>\n",
              "      <td>-14.129855</td>\n",
              "      <td>-0.468037</td>\n",
              "      <td>0.066413</td>\n",
              "      <td>0.523296</td>\n",
              "      <td>17.315112</td>\n",
              "    </tr>\n",
              "    <tr>\n",
              "      <th>V17</th>\n",
              "      <td>284807.0</td>\n",
              "      <td>-7.528491e-16</td>\n",
              "      <td>0.849337</td>\n",
              "      <td>-25.162799</td>\n",
              "      <td>-0.483748</td>\n",
              "      <td>-0.065676</td>\n",
              "      <td>0.399675</td>\n",
              "      <td>9.253526</td>\n",
              "    </tr>\n",
              "    <tr>\n",
              "      <th>V18</th>\n",
              "      <td>284807.0</td>\n",
              "      <td>4.328772e-16</td>\n",
              "      <td>0.838176</td>\n",
              "      <td>-9.498746</td>\n",
              "      <td>-0.498850</td>\n",
              "      <td>-0.003636</td>\n",
              "      <td>0.500807</td>\n",
              "      <td>5.041069</td>\n",
              "    </tr>\n",
              "    <tr>\n",
              "      <th>V19</th>\n",
              "      <td>284807.0</td>\n",
              "      <td>9.049732e-16</td>\n",
              "      <td>0.814041</td>\n",
              "      <td>-7.213527</td>\n",
              "      <td>-0.456299</td>\n",
              "      <td>0.003735</td>\n",
              "      <td>0.458949</td>\n",
              "      <td>5.591971</td>\n",
              "    </tr>\n",
              "    <tr>\n",
              "      <th>V20</th>\n",
              "      <td>284807.0</td>\n",
              "      <td>5.085503e-16</td>\n",
              "      <td>0.770925</td>\n",
              "      <td>-54.497720</td>\n",
              "      <td>-0.211721</td>\n",
              "      <td>-0.062481</td>\n",
              "      <td>0.133041</td>\n",
              "      <td>39.420904</td>\n",
              "    </tr>\n",
              "    <tr>\n",
              "      <th>V21</th>\n",
              "      <td>284807.0</td>\n",
              "      <td>1.537294e-16</td>\n",
              "      <td>0.734524</td>\n",
              "      <td>-34.830382</td>\n",
              "      <td>-0.228395</td>\n",
              "      <td>-0.029450</td>\n",
              "      <td>0.186377</td>\n",
              "      <td>27.202839</td>\n",
              "    </tr>\n",
              "    <tr>\n",
              "      <th>V22</th>\n",
              "      <td>284807.0</td>\n",
              "      <td>7.959909e-16</td>\n",
              "      <td>0.725702</td>\n",
              "      <td>-10.933144</td>\n",
              "      <td>-0.542350</td>\n",
              "      <td>0.006782</td>\n",
              "      <td>0.528554</td>\n",
              "      <td>10.503090</td>\n",
              "    </tr>\n",
              "    <tr>\n",
              "      <th>V23</th>\n",
              "      <td>284807.0</td>\n",
              "      <td>5.367590e-16</td>\n",
              "      <td>0.624460</td>\n",
              "      <td>-44.807735</td>\n",
              "      <td>-0.161846</td>\n",
              "      <td>-0.011193</td>\n",
              "      <td>0.147642</td>\n",
              "      <td>22.528412</td>\n",
              "    </tr>\n",
              "    <tr>\n",
              "      <th>V24</th>\n",
              "      <td>284807.0</td>\n",
              "      <td>4.458112e-15</td>\n",
              "      <td>0.605647</td>\n",
              "      <td>-2.836627</td>\n",
              "      <td>-0.354586</td>\n",
              "      <td>0.040976</td>\n",
              "      <td>0.439527</td>\n",
              "      <td>4.584549</td>\n",
              "    </tr>\n",
              "    <tr>\n",
              "      <th>V25</th>\n",
              "      <td>284807.0</td>\n",
              "      <td>1.453003e-15</td>\n",
              "      <td>0.521278</td>\n",
              "      <td>-10.295397</td>\n",
              "      <td>-0.317145</td>\n",
              "      <td>0.016594</td>\n",
              "      <td>0.350716</td>\n",
              "      <td>7.519589</td>\n",
              "    </tr>\n",
              "    <tr>\n",
              "      <th>V26</th>\n",
              "      <td>284807.0</td>\n",
              "      <td>1.699104e-15</td>\n",
              "      <td>0.482227</td>\n",
              "      <td>-2.604551</td>\n",
              "      <td>-0.326984</td>\n",
              "      <td>-0.052139</td>\n",
              "      <td>0.240952</td>\n",
              "      <td>3.517346</td>\n",
              "    </tr>\n",
              "    <tr>\n",
              "      <th>V27</th>\n",
              "      <td>284807.0</td>\n",
              "      <td>-3.660161e-16</td>\n",
              "      <td>0.403632</td>\n",
              "      <td>-22.565679</td>\n",
              "      <td>-0.070840</td>\n",
              "      <td>0.001342</td>\n",
              "      <td>0.091045</td>\n",
              "      <td>31.612198</td>\n",
              "    </tr>\n",
              "    <tr>\n",
              "      <th>V28</th>\n",
              "      <td>284807.0</td>\n",
              "      <td>-1.206049e-16</td>\n",
              "      <td>0.330083</td>\n",
              "      <td>-15.430084</td>\n",
              "      <td>-0.052960</td>\n",
              "      <td>0.011244</td>\n",
              "      <td>0.078280</td>\n",
              "      <td>33.847808</td>\n",
              "    </tr>\n",
              "    <tr>\n",
              "      <th>Amount</th>\n",
              "      <td>284807.0</td>\n",
              "      <td>8.834962e+01</td>\n",
              "      <td>250.120109</td>\n",
              "      <td>0.000000</td>\n",
              "      <td>5.600000</td>\n",
              "      <td>22.000000</td>\n",
              "      <td>77.165000</td>\n",
              "      <td>25691.160000</td>\n",
              "    </tr>\n",
              "    <tr>\n",
              "      <th>Class</th>\n",
              "      <td>284807.0</td>\n",
              "      <td>1.727486e-03</td>\n",
              "      <td>0.041527</td>\n",
              "      <td>0.000000</td>\n",
              "      <td>0.000000</td>\n",
              "      <td>0.000000</td>\n",
              "      <td>0.000000</td>\n",
              "      <td>1.000000</td>\n",
              "    </tr>\n",
              "  </tbody>\n",
              "</table>\n",
              "</div>"
            ],
            "text/plain": [
              "           count          mean           std         min           25%           50%            75%            max\n",
              "Time    284807.0  9.481386e+04  47488.145955    0.000000  54201.500000  84692.000000  139320.500000  172792.000000\n",
              "V1      284807.0  3.919560e-15      1.958696  -56.407510     -0.920373      0.018109       1.315642       2.454930\n",
              "V2      284807.0  5.688174e-16      1.651309  -72.715728     -0.598550      0.065486       0.803724      22.057729\n",
              "V3      284807.0 -8.769071e-15      1.516255  -48.325589     -0.890365      0.179846       1.027196       9.382558\n",
              "V4      284807.0  2.782312e-15      1.415869   -5.683171     -0.848640     -0.019847       0.743341      16.875344\n",
              "V5      284807.0 -1.552563e-15      1.380247 -113.743307     -0.691597     -0.054336       0.611926      34.801666\n",
              "V6      284807.0  2.010663e-15      1.332271  -26.160506     -0.768296     -0.274187       0.398565      73.301626\n",
              "V7      284807.0 -1.694249e-15      1.237094  -43.557242     -0.554076      0.040103       0.570436     120.589494\n",
              "V8      284807.0 -1.927028e-16      1.194353  -73.216718     -0.208630      0.022358       0.327346      20.007208\n",
              "V9      284807.0 -3.137024e-15      1.098632  -13.434066     -0.643098     -0.051429       0.597139      15.594995\n",
              "V10     284807.0  1.768627e-15      1.088850  -24.588262     -0.535426     -0.092917       0.453923      23.745136\n",
              "V11     284807.0  9.170318e-16      1.020713   -4.797473     -0.762494     -0.032757       0.739593      12.018913\n",
              "V12     284807.0 -1.810658e-15      0.999201  -18.683715     -0.405571      0.140033       0.618238       7.848392\n",
              "V13     284807.0  1.693438e-15      0.995274   -5.791881     -0.648539     -0.013568       0.662505       7.126883\n",
              "V14     284807.0  1.479045e-15      0.958596  -19.214325     -0.425574      0.050601       0.493150      10.526766\n",
              "V15     284807.0  3.482336e-15      0.915316   -4.498945     -0.582884      0.048072       0.648821       8.877742\n",
              "V16     284807.0  1.392007e-15      0.876253  -14.129855     -0.468037      0.066413       0.523296      17.315112\n",
              "V17     284807.0 -7.528491e-16      0.849337  -25.162799     -0.483748     -0.065676       0.399675       9.253526\n",
              "V18     284807.0  4.328772e-16      0.838176   -9.498746     -0.498850     -0.003636       0.500807       5.041069\n",
              "V19     284807.0  9.049732e-16      0.814041   -7.213527     -0.456299      0.003735       0.458949       5.591971\n",
              "V20     284807.0  5.085503e-16      0.770925  -54.497720     -0.211721     -0.062481       0.133041      39.420904\n",
              "V21     284807.0  1.537294e-16      0.734524  -34.830382     -0.228395     -0.029450       0.186377      27.202839\n",
              "V22     284807.0  7.959909e-16      0.725702  -10.933144     -0.542350      0.006782       0.528554      10.503090\n",
              "V23     284807.0  5.367590e-16      0.624460  -44.807735     -0.161846     -0.011193       0.147642      22.528412\n",
              "V24     284807.0  4.458112e-15      0.605647   -2.836627     -0.354586      0.040976       0.439527       4.584549\n",
              "V25     284807.0  1.453003e-15      0.521278  -10.295397     -0.317145      0.016594       0.350716       7.519589\n",
              "V26     284807.0  1.699104e-15      0.482227   -2.604551     -0.326984     -0.052139       0.240952       3.517346\n",
              "V27     284807.0 -3.660161e-16      0.403632  -22.565679     -0.070840      0.001342       0.091045      31.612198\n",
              "V28     284807.0 -1.206049e-16      0.330083  -15.430084     -0.052960      0.011244       0.078280      33.847808\n",
              "Amount  284807.0  8.834962e+01    250.120109    0.000000      5.600000     22.000000      77.165000   25691.160000\n",
              "Class   284807.0  1.727486e-03      0.041527    0.000000      0.000000      0.000000       0.000000       1.000000"
            ]
          },
          "metadata": {
            "tags": []
          },
          "execution_count": 6
        }
      ]
    },
    {
      "cell_type": "code",
      "metadata": {
        "colab": {
          "base_uri": "https://localhost:8080/"
        },
        "id": "2TXGUH-InPRE",
        "outputId": "2f449525-cbee-47cf-c539-ba25e97ad32a"
      },
      "source": [
        "train.info()"
      ],
      "execution_count": 7,
      "outputs": [
        {
          "output_type": "stream",
          "text": [
            "<class 'pandas.core.frame.DataFrame'>\n",
            "RangeIndex: 284807 entries, 0 to 284806\n",
            "Data columns (total 31 columns):\n",
            " #   Column  Non-Null Count   Dtype  \n",
            "---  ------  --------------   -----  \n",
            " 0   Time    284807 non-null  float64\n",
            " 1   V1      284807 non-null  float64\n",
            " 2   V2      284807 non-null  float64\n",
            " 3   V3      284807 non-null  float64\n",
            " 4   V4      284807 non-null  float64\n",
            " 5   V5      284807 non-null  float64\n",
            " 6   V6      284807 non-null  float64\n",
            " 7   V7      284807 non-null  float64\n",
            " 8   V8      284807 non-null  float64\n",
            " 9   V9      284807 non-null  float64\n",
            " 10  V10     284807 non-null  float64\n",
            " 11  V11     284807 non-null  float64\n",
            " 12  V12     284807 non-null  float64\n",
            " 13  V13     284807 non-null  float64\n",
            " 14  V14     284807 non-null  float64\n",
            " 15  V15     284807 non-null  float64\n",
            " 16  V16     284807 non-null  float64\n",
            " 17  V17     284807 non-null  float64\n",
            " 18  V18     284807 non-null  float64\n",
            " 19  V19     284807 non-null  float64\n",
            " 20  V20     284807 non-null  float64\n",
            " 21  V21     284807 non-null  float64\n",
            " 22  V22     284807 non-null  float64\n",
            " 23  V23     284807 non-null  float64\n",
            " 24  V24     284807 non-null  float64\n",
            " 25  V25     284807 non-null  float64\n",
            " 26  V26     284807 non-null  float64\n",
            " 27  V27     284807 non-null  float64\n",
            " 28  V28     284807 non-null  float64\n",
            " 29  Amount  284807 non-null  float64\n",
            " 30  Class   284807 non-null  int64  \n",
            "dtypes: float64(30), int64(1)\n",
            "memory usage: 67.4 MB\n"
          ],
          "name": "stdout"
        }
      ]
    },
    {
      "cell_type": "markdown",
      "metadata": {
        "id": "muFVoNDes1uk"
      },
      "source": [
        "## **Data Visualization**"
      ]
    },
    {
      "cell_type": "code",
      "metadata": {
        "colab": {
          "base_uri": "https://localhost:8080/"
        },
        "id": "dgiGgpDauaNS",
        "outputId": "dc364d71-862f-415a-b5c2-069d2bd25781"
      },
      "source": [
        "numericalData = train.columns\n",
        "numericalData"
      ],
      "execution_count": 8,
      "outputs": [
        {
          "output_type": "execute_result",
          "data": {
            "text/plain": [
              "Index(['Time', 'V1', 'V2', 'V3', 'V4', 'V5', 'V6', 'V7', 'V8', 'V9', 'V10', 'V11', 'V12', 'V13', 'V14', 'V15', 'V16', 'V17', 'V18', 'V19', 'V20', 'V21', 'V22', 'V23', 'V24', 'V25', 'V26', 'V27', 'V28', 'Amount', 'Class'], dtype='object')"
            ]
          },
          "metadata": {
            "tags": []
          },
          "execution_count": 8
        }
      ]
    },
    {
      "cell_type": "code",
      "metadata": {
        "colab": {
          "base_uri": "https://localhost:8080/",
          "height": 1000
        },
        "id": "A4E2MLY1pWNL",
        "outputId": "b46a98e8-de49-4bfd-b36d-2a33f99cc6ce"
      },
      "source": [
        "fig, ax = plt.subplots(10, 3, figsize=(20,20))\n",
        "for column, subplot in zip(numericalData, ax.flatten()):\n",
        "  sns.distplot(train[column], bins=20, ax=subplot)"
      ],
      "execution_count": 9,
      "outputs": [
        {
          "output_type": "display_data",
          "data": {
            "image/png": "[encoded data removed]",
            "text/plain": [
              "<Figure size 1440x1440 with 30 Axes>"
            ]
          },
          "metadata": {
            "tags": [],
            "needs_background": "light"
          }
        }
      ]
    },
    {
      "cell_type": "code",
      "metadata": {
        "id": "2d0bcbf6",
        "colab": {
          "base_uri": "https://localhost:8080/",
          "height": 300
        },
        "outputId": "125389b9-469e-4ffa-d3a3-cded19adef51"
      },
      "source": [
        "fig, ax = plt.subplots(1, 2, figsize=(18,4))\n",
        "\n",
        "amount_val = train['Amount'].values\n",
        "time_val = train['Time'].values\n",
        "\n",
        "sns.distplot(amount_val, ax=ax[0], color='r')\n",
        "ax[0].set_title('Distribution of Transaction Amount', fontsize=14)\n",
        "ax[0].set_xlim([min(amount_val), max(amount_val)])\n",
        "\n",
        "sns.distplot(time_val, ax=ax[1], color='b')\n",
        "ax[1].set_title('Distribution of Transaction Time', fontsize=14)\n",
        "ax[1].set_xlim([min(time_val), max(time_val)])"
      ],
      "execution_count": 10,
      "outputs": [
        {
          "output_type": "execute_result",
          "data": {
            "text/plain": [
              "(0.0, 172792.0)"
            ]
          },
          "metadata": {
            "tags": []
          },
          "execution_count": 10
        },
        {
          "output_type": "display_data",
          "data": {
            "image/png": "[encoded data removed]",
            "text/plain": [
              "<Figure size 1296x288 with 2 Axes>"
            ]
          },
          "metadata": {
            "tags": [],
            "needs_background": "light"
          }
        }
      ]
    },
    {
      "cell_type": "markdown",
      "metadata": {
        "id": "g3dj62Giv_AD"
      },
      "source": [
        "## **Data Preprocessing**"
      ]
    },
    {
      "cell_type": "code",
      "metadata": {
        "colab": {
          "base_uri": "https://localhost:8080/"
        },
        "id": "whq3H5FGwFVt",
        "outputId": "8bff8e73-b8b5-49ef-8839-d30284d97684"
      },
      "source": [
        "train.isnull().any()"
      ],
      "execution_count": 11,
      "outputs": [
        {
          "output_type": "execute_result",
          "data": {
            "text/plain": [
              "Time      False\n",
              "V1        False\n",
              "V2        False\n",
              "V3        False\n",
              "V4        False\n",
              "V5        False\n",
              "V6        False\n",
              "V7        False\n",
              "V8        False\n",
              "V9        False\n",
              "V10       False\n",
              "V11       False\n",
              "V12       False\n",
              "V13       False\n",
              "V14       False\n",
              "V15       False\n",
              "V16       False\n",
              "V17       False\n",
              "V18       False\n",
              "V19       False\n",
              "V20       False\n",
              "V21       False\n",
              "V22       False\n",
              "V23       False\n",
              "V24       False\n",
              "V25       False\n",
              "V26       False\n",
              "V27       False\n",
              "V28       False\n",
              "Amount    False\n",
              "Class     False\n",
              "dtype: bool"
            ]
          },
          "metadata": {
            "tags": []
          },
          "execution_count": 11
        }
      ]
    },
    {
      "cell_type": "code",
      "metadata": {
        "colab": {
          "base_uri": "https://localhost:8080/"
        },
        "id": "eLnVmwvCwW0V",
        "outputId": "14680436-6470-42c3-febe-6abe57d14203"
      },
      "source": [
        "train.duplicated().any()"
      ],
      "execution_count": 12,
      "outputs": [
        {
          "output_type": "execute_result",
          "data": {
            "text/plain": [
              "True"
            ]
          },
          "metadata": {
            "tags": []
          },
          "execution_count": 12
        }
      ]
    },
    {
      "cell_type": "code",
      "metadata": {
        "colab": {
          "base_uri": "https://localhost:8080/"
        },
        "id": "uOamW9V5wb6g",
        "outputId": "7084cabc-bdba-4398-ed83-9418cbc6007d"
      },
      "source": [
        "newTrain = train.copy()\n",
        "totalRecord = newTrain.shape[0]\n",
        "print(\"No or records before deleting the duplicates: \", totalRecord)\n",
        "newTrain.drop_duplicates(inplace= True)\n",
        "newTrain.reset_index(drop=True)\n",
        "finalTotalRecord = newTrain.shape[0]\n",
        "print(\"No or records after deleting the duplicates: \", finalTotalRecord, \"\\n\")\n",
        "print(\"TOtal No of records deleted: {}\".format(totalRecord-finalTotalRecord))"
      ],
      "execution_count": 13,
      "outputs": [
        {
          "output_type": "stream",
          "text": [
            "No or records before deleting the duplicates:  284807\n",
            "No or records after deleting the duplicates:  283726 \n",
            "\n",
            "TOtal No of records deleted: 1081\n"
          ],
          "name": "stdout"
        }
      ]
    },
    {
      "cell_type": "markdown",
      "metadata": {
        "id": "AHeSr2j91IZs"
      },
      "source": [
        "## **Check Balanced or Unbalanced Data**"
      ]
    },
    {
      "cell_type": "code",
      "metadata": {
        "colab": {
          "base_uri": "https://localhost:8080/"
        },
        "id": "HR7s231Z1HtQ",
        "outputId": "4c731654-b0ef-4b1d-e228-700d4bf2a031"
      },
      "source": [
        "newTrain['Class'].value_counts()"
      ],
      "execution_count": 14,
      "outputs": [
        {
          "output_type": "execute_result",
          "data": {
            "text/plain": [
              "0    283253\n",
              "1       473\n",
              "Name: Class, dtype: int64"
            ]
          },
          "metadata": {
            "tags": []
          },
          "execution_count": 14
        }
      ]
    },
    {
      "cell_type": "code",
      "metadata": {
        "colab": {
          "base_uri": "https://localhost:8080/",
          "height": 331
        },
        "id": "F6jvg7Fe1adA",
        "outputId": "6b3e4f88-0e02-441d-a442-6a92dc622f2a"
      },
      "source": [
        "colors = [\"#68a0b0\", \"#DF0101\"]\n",
        "\n",
        "sns.countplot('Class', data=train, palette=colors)\n",
        "plt.title('Class Distributions \\n (0: No Fraud || 1: Fraud)', fontsize=14)"
      ],
      "execution_count": 15,
      "outputs": [
        {
          "output_type": "execute_result",
          "data": {
            "text/plain": [
              "Text(0.5, 1.0, 'Class Distributions \\n (0: No Fraud || 1: Fraud)')"
            ]
          },
          "metadata": {
            "tags": []
          },
          "execution_count": 15
        },
        {
          "output_type": "display_data",
          "data": {
            "image/png": "[encoded data removed]",
            "text/plain": [
              "<Figure size 432x288 with 1 Axes>"
            ]
          },
          "metadata": {
            "tags": [],
            "needs_background": "light"
          }
        }
      ]
    },
    {
      "cell_type": "code",
      "metadata": {
        "colab": {
          "base_uri": "https://localhost:8080/"
        },
        "id": "G1cUoZo93iYU",
        "outputId": "9c20b89e-6ee2-44f2-99fa-e8526cce7101"
      },
      "source": [
        "print(\"Percentage of Fraud cases: {}\".format((newTrain.Class.value_counts()[1]/finalTotalRecord)*100))\n",
        "print(\"Percentage of Non Fraud cases: {}\".format((newTrain.Class.value_counts()[0]/finalTotalRecord)*100))"
      ],
      "execution_count": 16,
      "outputs": [
        {
          "output_type": "stream",
          "text": [
            "Percentage of Fraud cases: 0.1667101358352777\n",
            "Percentage of Non Fraud cases: 99.83328986416473\n"
          ],
          "name": "stdout"
        }
      ]
    },
    {
      "cell_type": "markdown",
      "metadata": {
        "id": "cu-k1tjVjZZz"
      },
      "source": [
        "## **Balancing the Data**"
      ]
    },
    {
      "cell_type": "code",
      "metadata": {
        "colab": {
          "base_uri": "https://localhost:8080/",
          "height": 111
        },
        "id": "62iFy99SjmLa",
        "outputId": "2eba9997-11ef-49b7-ae26-b5ffb1d30547"
      },
      "source": [
        "#Numeric variables\n",
        "cdata_num = newTrain[['Time','Amount']]\n",
        "cdata_num.corr()"
      ],
      "execution_count": 17,
      "outputs": [
        {
          "output_type": "execute_result",
          "data": {
            "text/html": [
              "<div>\n",
              "<style scoped>\n",
              "    .dataframe tbody tr th:only-of-type {\n",
              "        vertical-align: middle;\n",
              "    }\n",
              "\n",
              "    .dataframe tbody tr th {\n",
              "        vertical-align: top;\n",
              "    }\n",
              "\n",
              "    .dataframe thead th {\n",
              "        text-align: right;\n",
              "    }\n",
              "</style>\n",
              "<table border=\"1\" class=\"dataframe\">\n",
              "  <thead>\n",
              "    <tr style=\"text-align: right;\">\n",
              "      <th></th>\n",
              "      <th>Time</th>\n",
              "      <th>Amount</th>\n",
              "    </tr>\n",
              "  </thead>\n",
              "  <tbody>\n",
              "    <tr>\n",
              "      <th>Time</th>\n",
              "      <td>1.000000</td>\n",
              "      <td>-0.010559</td>\n",
              "    </tr>\n",
              "    <tr>\n",
              "      <th>Amount</th>\n",
              "      <td>-0.010559</td>\n",
              "      <td>1.000000</td>\n",
              "    </tr>\n",
              "  </tbody>\n",
              "</table>\n",
              "</div>"
            ],
            "text/plain": [
              "            Time    Amount\n",
              "Time    1.000000 -0.010559\n",
              "Amount -0.010559  1.000000"
            ]
          },
          "metadata": {
            "tags": []
          },
          "execution_count": 17
        }
      ]
    },
    {
      "cell_type": "code",
      "metadata": {
        "colab": {
          "base_uri": "https://localhost:8080/",
          "height": 358
        },
        "id": "LzuViNRhjmLc",
        "outputId": "281d22a1-9c62-4c5a-c370-80a52aad433c"
      },
      "source": [
        "#Creating bins for amount and time columns for eda\n",
        "cdata_eda = newTrain\n",
        "cdata_eda['AmountBins'] = pd.cut(cdata_eda['Amount'],5)\n",
        "grpby_AmountBins = cdata_eda.groupby(['AmountBins','Class']).size().reset_index(name='counts')\n",
        "grpby_AmountBins"
      ],
      "execution_count": 18,
      "outputs": [
        {
          "output_type": "execute_result",
          "data": {
            "text/html": [
              "<div>\n",
              "<style scoped>\n",
              "    .dataframe tbody tr th:only-of-type {\n",
              "        vertical-align: middle;\n",
              "    }\n",
              "\n",
              "    .dataframe tbody tr th {\n",
              "        vertical-align: top;\n",
              "    }\n",
              "\n",
              "    .dataframe thead th {\n",
              "        text-align: right;\n",
              "    }\n",
              "</style>\n",
              "<table border=\"1\" class=\"dataframe\">\n",
              "  <thead>\n",
              "    <tr style=\"text-align: right;\">\n",
              "      <th></th>\n",
              "      <th>AmountBins</th>\n",
              "      <th>Class</th>\n",
              "      <th>counts</th>\n",
              "    </tr>\n",
              "  </thead>\n",
              "  <tbody>\n",
              "    <tr>\n",
              "      <th>0</th>\n",
              "      <td>(-25.691, 5138.232]</td>\n",
              "      <td>0</td>\n",
              "      <td>283201</td>\n",
              "    </tr>\n",
              "    <tr>\n",
              "      <th>1</th>\n",
              "      <td>(-25.691, 5138.232]</td>\n",
              "      <td>1</td>\n",
              "      <td>473</td>\n",
              "    </tr>\n",
              "    <tr>\n",
              "      <th>2</th>\n",
              "      <td>(5138.232, 10276.464]</td>\n",
              "      <td>0</td>\n",
              "      <td>46</td>\n",
              "    </tr>\n",
              "    <tr>\n",
              "      <th>3</th>\n",
              "      <td>(5138.232, 10276.464]</td>\n",
              "      <td>1</td>\n",
              "      <td>0</td>\n",
              "    </tr>\n",
              "    <tr>\n",
              "      <th>4</th>\n",
              "      <td>(10276.464, 15414.696]</td>\n",
              "      <td>0</td>\n",
              "      <td>3</td>\n",
              "    </tr>\n",
              "    <tr>\n",
              "      <th>5</th>\n",
              "      <td>(10276.464, 15414.696]</td>\n",
              "      <td>1</td>\n",
              "      <td>0</td>\n",
              "    </tr>\n",
              "    <tr>\n",
              "      <th>6</th>\n",
              "      <td>(15414.696, 20552.928]</td>\n",
              "      <td>0</td>\n",
              "      <td>2</td>\n",
              "    </tr>\n",
              "    <tr>\n",
              "      <th>7</th>\n",
              "      <td>(15414.696, 20552.928]</td>\n",
              "      <td>1</td>\n",
              "      <td>0</td>\n",
              "    </tr>\n",
              "    <tr>\n",
              "      <th>8</th>\n",
              "      <td>(20552.928, 25691.16]</td>\n",
              "      <td>0</td>\n",
              "      <td>1</td>\n",
              "    </tr>\n",
              "    <tr>\n",
              "      <th>9</th>\n",
              "      <td>(20552.928, 25691.16]</td>\n",
              "      <td>1</td>\n",
              "      <td>0</td>\n",
              "    </tr>\n",
              "  </tbody>\n",
              "</table>\n",
              "</div>"
            ],
            "text/plain": [
              "               AmountBins  Class  counts\n",
              "0     (-25.691, 5138.232]      0  283201\n",
              "1     (-25.691, 5138.232]      1     473\n",
              "2   (5138.232, 10276.464]      0      46\n",
              "3   (5138.232, 10276.464]      1       0\n",
              "4  (10276.464, 15414.696]      0       3\n",
              "5  (10276.464, 15414.696]      1       0\n",
              "6  (15414.696, 20552.928]      0       2\n",
              "7  (15414.696, 20552.928]      1       0\n",
              "8   (20552.928, 25691.16]      0       1\n",
              "9   (20552.928, 25691.16]      1       0"
            ]
          },
          "metadata": {
            "tags": []
          },
          "execution_count": 18
        }
      ]
    },
    {
      "cell_type": "markdown",
      "metadata": {
        "id": "0_bABjxTkCVM"
      },
      "source": [
        "**We can see that most of the fraudant data has transaction value less than  5000**"
      ]
    },
    {
      "cell_type": "code",
      "metadata": {
        "colab": {
          "base_uri": "https://localhost:8080/"
        },
        "id": "RoQzC6M1bQld",
        "outputId": "6afcb935-5747-489e-8578-3622779cce1e"
      },
      "source": [
        "print(\"Data having Amount value more than 5200 is: {}\".format(train[train['Amount'] > 5200 ].shape[0]))\n",
        "newTrain = newTrain[newTrain['Amount'] < 5200]\n",
        "newTrain.reset_index(inplace= True, drop= True)\n",
        "print(newTrain.shape)"
      ],
      "execution_count": 19,
      "outputs": [
        {
          "output_type": "stream",
          "text": [
            "Data having Amount value more than 5200 is: 52\n",
            "(283674, 32)\n"
          ],
          "name": "stdout"
        }
      ]
    },
    {
      "cell_type": "code",
      "metadata": {
        "colab": {
          "base_uri": "https://localhost:8080/"
        },
        "id": "6jbpyDc4n1MF",
        "outputId": "6871fe91-41aa-488d-af28-c2ccb6322b3b"
      },
      "source": [
        "newTrain.Class.value_counts()"
      ],
      "execution_count": 20,
      "outputs": [
        {
          "output_type": "execute_result",
          "data": {
            "text/plain": [
              "0    283201\n",
              "1       473\n",
              "Name: Class, dtype: int64"
            ]
          },
          "metadata": {
            "tags": []
          },
          "execution_count": 20
        }
      ]
    },
    {
      "cell_type": "code",
      "metadata": {
        "id": "Qyf42NM_3n5S",
        "colab": {
          "base_uri": "https://localhost:8080/"
        },
        "outputId": "178576bc-da76-49e4-c5d9-baf902e04b74"
      },
      "source": [
        "fraudData = newTrain[newTrain['Class']==1]\n",
        "nonFraudData = newTrain[newTrain['Class']==0]\n",
        "print(\"Fraud Data: \", fraudData.shape)\n",
        "print(\"Non Fraud Data: \", nonFraudData.shape)"
      ],
      "execution_count": 21,
      "outputs": [
        {
          "output_type": "stream",
          "text": [
            "Fraud Data:  (473, 32)\n",
            "Non Fraud Data:  (283201, 32)\n"
          ],
          "name": "stdout"
        }
      ]
    },
    {
      "cell_type": "code",
      "metadata": {
        "colab": {
          "base_uri": "https://localhost:8080/"
        },
        "id": "vxEDIf6I-Kbc",
        "outputId": "789ce927-559d-4aaf-f85f-24dfade612bc"
      },
      "source": [
        "nonFraudData = nonFraudData.sample(fraudData.shape[0])\n",
        "nonFraudData.shape"
      ],
      "execution_count": 22,
      "outputs": [
        {
          "output_type": "execute_result",
          "data": {
            "text/plain": [
              "(473, 32)"
            ]
          },
          "metadata": {
            "tags": []
          },
          "execution_count": 22
        }
      ]
    },
    {
      "cell_type": "code",
      "metadata": {
        "id": "nwkGkg-K_FJt"
      },
      "source": [
        "data = fraudData.append(nonFraudData, ignore_index= True)\n",
        "data.drop(['AmountBins'], axis=1, inplace= True)"
      ],
      "execution_count": 29,
      "outputs": []
    },
    {
      "cell_type": "code",
      "metadata": {
        "colab": {
          "base_uri": "https://localhost:8080/",
          "height": 224
        },
        "id": "5b1KMPDa_TiL",
        "outputId": "affadf69-7618-45fe-d9c5-91ed2931a38d"
      },
      "source": [
        "data = data.reset_index(drop=True)\n",
        "data.head()"
      ],
      "execution_count": 30,
      "outputs": [
        {
          "output_type": "execute_result",
          "data": {
            "text/html": [
              "<div>\n",
              "<style scoped>\n",
              "    .dataframe tbody tr th:only-of-type {\n",
              "        vertical-align: middle;\n",
              "    }\n",
              "\n",
              "    .dataframe tbody tr th {\n",
              "        vertical-align: top;\n",
              "    }\n",
              "\n",
              "    .dataframe thead th {\n",
              "        text-align: right;\n",
              "    }\n",
              "</style>\n",
              "<table border=\"1\" class=\"dataframe\">\n",
              "  <thead>\n",
              "    <tr style=\"text-align: right;\">\n",
              "      <th></th>\n",
              "      <th>Time</th>\n",
              "      <th>V1</th>\n",
              "      <th>V2</th>\n",
              "      <th>V3</th>\n",
              "      <th>V4</th>\n",
              "      <th>V5</th>\n",
              "      <th>V6</th>\n",
              "      <th>V7</th>\n",
              "      <th>V8</th>\n",
              "      <th>V9</th>\n",
              "      <th>V10</th>\n",
              "      <th>V11</th>\n",
              "      <th>V12</th>\n",
              "      <th>V13</th>\n",
              "      <th>V14</th>\n",
              "      <th>V15</th>\n",
              "      <th>V16</th>\n",
              "      <th>V17</th>\n",
              "      <th>V18</th>\n",
              "      <th>V19</th>\n",
              "      <th>V20</th>\n",
              "      <th>V21</th>\n",
              "      <th>V22</th>\n",
              "      <th>V23</th>\n",
              "      <th>V24</th>\n",
              "      <th>V25</th>\n",
              "      <th>V26</th>\n",
              "      <th>V27</th>\n",
              "      <th>V28</th>\n",
              "      <th>Amount</th>\n",
              "      <th>Class</th>\n",
              "    </tr>\n",
              "  </thead>\n",
              "  <tbody>\n",
              "    <tr>\n",
              "      <th>0</th>\n",
              "      <td>406.0</td>\n",
              "      <td>-2.312227</td>\n",
              "      <td>1.951992</td>\n",
              "      <td>-1.609851</td>\n",
              "      <td>3.997906</td>\n",
              "      <td>-0.522188</td>\n",
              "      <td>-1.426545</td>\n",
              "      <td>-2.537387</td>\n",
              "      <td>1.391657</td>\n",
              "      <td>-2.770089</td>\n",
              "      <td>-2.772272</td>\n",
              "      <td>3.202033</td>\n",
              "      <td>-2.899907</td>\n",
              "      <td>-0.595222</td>\n",
              "      <td>-4.289254</td>\n",
              "      <td>0.389724</td>\n",
              "      <td>-1.140747</td>\n",
              "      <td>-2.830056</td>\n",
              "      <td>-0.016822</td>\n",
              "      <td>0.416956</td>\n",
              "      <td>0.126911</td>\n",
              "      <td>0.517232</td>\n",
              "      <td>-0.035049</td>\n",
              "      <td>-0.465211</td>\n",
              "      <td>0.320198</td>\n",
              "      <td>0.044519</td>\n",
              "      <td>0.177840</td>\n",
              "      <td>0.261145</td>\n",
              "      <td>-0.143276</td>\n",
              "      <td>0.00</td>\n",
              "      <td>1</td>\n",
              "    </tr>\n",
              "    <tr>\n",
              "      <th>1</th>\n",
              "      <td>472.0</td>\n",
              "      <td>-3.043541</td>\n",
              "      <td>-3.157307</td>\n",
              "      <td>1.088463</td>\n",
              "      <td>2.288644</td>\n",
              "      <td>1.359805</td>\n",
              "      <td>-1.064823</td>\n",
              "      <td>0.325574</td>\n",
              "      <td>-0.067794</td>\n",
              "      <td>-0.270953</td>\n",
              "      <td>-0.838587</td>\n",
              "      <td>-0.414575</td>\n",
              "      <td>-0.503141</td>\n",
              "      <td>0.676502</td>\n",
              "      <td>-1.692029</td>\n",
              "      <td>2.000635</td>\n",
              "      <td>0.666780</td>\n",
              "      <td>0.599717</td>\n",
              "      <td>1.725321</td>\n",
              "      <td>0.283345</td>\n",
              "      <td>2.102339</td>\n",
              "      <td>0.661696</td>\n",
              "      <td>0.435477</td>\n",
              "      <td>1.375966</td>\n",
              "      <td>-0.293803</td>\n",
              "      <td>0.279798</td>\n",
              "      <td>-0.145362</td>\n",
              "      <td>-0.252773</td>\n",
              "      <td>0.035764</td>\n",
              "      <td>529.00</td>\n",
              "      <td>1</td>\n",
              "    </tr>\n",
              "    <tr>\n",
              "      <th>2</th>\n",
              "      <td>4462.0</td>\n",
              "      <td>-2.303350</td>\n",
              "      <td>1.759247</td>\n",
              "      <td>-0.359745</td>\n",
              "      <td>2.330243</td>\n",
              "      <td>-0.821628</td>\n",
              "      <td>-0.075788</td>\n",
              "      <td>0.562320</td>\n",
              "      <td>-0.399147</td>\n",
              "      <td>-0.238253</td>\n",
              "      <td>-1.525412</td>\n",
              "      <td>2.032912</td>\n",
              "      <td>-6.560124</td>\n",
              "      <td>0.022937</td>\n",
              "      <td>-1.470102</td>\n",
              "      <td>-0.698826</td>\n",
              "      <td>-2.282194</td>\n",
              "      <td>-4.781831</td>\n",
              "      <td>-2.615665</td>\n",
              "      <td>-1.334441</td>\n",
              "      <td>-0.430022</td>\n",
              "      <td>-0.294166</td>\n",
              "      <td>-0.932391</td>\n",
              "      <td>0.172726</td>\n",
              "      <td>-0.087330</td>\n",
              "      <td>-0.156114</td>\n",
              "      <td>-0.542628</td>\n",
              "      <td>0.039566</td>\n",
              "      <td>-0.153029</td>\n",
              "      <td>239.93</td>\n",
              "      <td>1</td>\n",
              "    </tr>\n",
              "    <tr>\n",
              "      <th>3</th>\n",
              "      <td>6986.0</td>\n",
              "      <td>-4.397974</td>\n",
              "      <td>1.358367</td>\n",
              "      <td>-2.592844</td>\n",
              "      <td>2.679787</td>\n",
              "      <td>-1.128131</td>\n",
              "      <td>-1.706536</td>\n",
              "      <td>-3.496197</td>\n",
              "      <td>-0.248778</td>\n",
              "      <td>-0.247768</td>\n",
              "      <td>-4.801637</td>\n",
              "      <td>4.895844</td>\n",
              "      <td>-10.912819</td>\n",
              "      <td>0.184372</td>\n",
              "      <td>-6.771097</td>\n",
              "      <td>-0.007326</td>\n",
              "      <td>-7.358083</td>\n",
              "      <td>-12.598419</td>\n",
              "      <td>-5.131549</td>\n",
              "      <td>0.308334</td>\n",
              "      <td>-0.171608</td>\n",
              "      <td>0.573574</td>\n",
              "      <td>0.176968</td>\n",
              "      <td>-0.436207</td>\n",
              "      <td>-0.053502</td>\n",
              "      <td>0.252405</td>\n",
              "      <td>-0.657488</td>\n",
              "      <td>-0.827136</td>\n",
              "      <td>0.849573</td>\n",
              "      <td>59.00</td>\n",
              "      <td>1</td>\n",
              "    </tr>\n",
              "    <tr>\n",
              "      <th>4</th>\n",
              "      <td>7519.0</td>\n",
              "      <td>1.234235</td>\n",
              "      <td>3.019740</td>\n",
              "      <td>-4.304597</td>\n",
              "      <td>4.732795</td>\n",
              "      <td>3.624201</td>\n",
              "      <td>-1.357746</td>\n",
              "      <td>1.713445</td>\n",
              "      <td>-0.496358</td>\n",
              "      <td>-1.282858</td>\n",
              "      <td>-2.447469</td>\n",
              "      <td>2.101344</td>\n",
              "      <td>-4.609628</td>\n",
              "      <td>1.464378</td>\n",
              "      <td>-6.079337</td>\n",
              "      <td>-0.339237</td>\n",
              "      <td>2.581851</td>\n",
              "      <td>6.739384</td>\n",
              "      <td>3.042493</td>\n",
              "      <td>-2.721853</td>\n",
              "      <td>0.009061</td>\n",
              "      <td>-0.379068</td>\n",
              "      <td>-0.704181</td>\n",
              "      <td>-0.656805</td>\n",
              "      <td>-1.632653</td>\n",
              "      <td>1.488901</td>\n",
              "      <td>0.566797</td>\n",
              "      <td>-0.010016</td>\n",
              "      <td>0.146793</td>\n",
              "      <td>1.00</td>\n",
              "      <td>1</td>\n",
              "    </tr>\n",
              "  </tbody>\n",
              "</table>\n",
              "</div>"
            ],
            "text/plain": [
              "     Time        V1        V2        V3        V4        V5        V6        V7        V8        V9       V10       V11        V12       V13       V14       V15       V16        V17       V18       V19       V20       V21       V22       V23       V24       V25       V26       V27       V28  Amount  Class\n",
              "0   406.0 -2.312227  1.951992 -1.609851  3.997906 -0.522188 -1.426545 -2.537387  1.391657 -2.770089 -2.772272  3.202033  -2.899907 -0.595222 -4.289254  0.389724 -1.140747  -2.830056 -0.016822  0.416956  0.126911  0.517232 -0.035049 -0.465211  0.320198  0.044519  0.177840  0.261145 -0.143276    0.00      1\n",
              "1   472.0 -3.043541 -3.157307  1.088463  2.288644  1.359805 -1.064823  0.325574 -0.067794 -0.270953 -0.838587 -0.414575  -0.503141  0.676502 -1.692029  2.000635  0.666780   0.599717  1.725321  0.283345  2.102339  0.661696  0.435477  1.375966 -0.293803  0.279798 -0.145362 -0.252773  0.035764  529.00      1\n",
              "2  4462.0 -2.303350  1.759247 -0.359745  2.330243 -0.821628 -0.075788  0.562320 -0.399147 -0.238253 -1.525412  2.032912  -6.560124  0.022937 -1.470102 -0.698826 -2.282194  -4.781831 -2.615665 -1.334441 -0.430022 -0.294166 -0.932391  0.172726 -0.087330 -0.156114 -0.542628  0.039566 -0.153029  239.93      1\n",
              "3  6986.0 -4.397974  1.358367 -2.592844  2.679787 -1.128131 -1.706536 -3.496197 -0.248778 -0.247768 -4.801637  4.895844 -10.912819  0.184372 -6.771097 -0.007326 -7.358083 -12.598419 -5.131549  0.308334 -0.171608  0.573574  0.176968 -0.436207 -0.053502  0.252405 -0.657488 -0.827136  0.849573   59.00      1\n",
              "4  7519.0  1.234235  3.019740 -4.304597  4.732795  3.624201 -1.357746  1.713445 -0.496358 -1.282858 -2.447469  2.101344  -4.609628  1.464378 -6.079337 -0.339237  2.581851   6.739384  3.042493 -2.721853  0.009061 -0.379068 -0.704181 -0.656805 -1.632653  1.488901  0.566797 -0.010016  0.146793    1.00      1"
            ]
          },
          "metadata": {
            "tags": []
          },
          "execution_count": 30
        }
      ]
    },
    {
      "cell_type": "code",
      "metadata": {
        "id": "dc73cccb",
        "colab": {
          "base_uri": "https://localhost:8080/",
          "height": 331
        },
        "outputId": "c14cafde-f7c7-459d-d477-274d9513667b"
      },
      "source": [
        "colors = [\"#68a0b0\", \"#DF0101\"]\n",
        "\n",
        "sns.countplot('Class', data=data, palette=colors)\n",
        "plt.title('Class Distributions \\n (0: No Fraud || 1: Fraud)', fontsize=14)"
      ],
      "execution_count": 39,
      "outputs": [
        {
          "output_type": "execute_result",
          "data": {
            "text/plain": [
              "Text(0.5, 1.0, 'Class Distributions \\n (0: No Fraud || 1: Fraud)')"
            ]
          },
          "metadata": {
            "tags": []
          },
          "execution_count": 39
        },
        {
          "output_type": "display_data",
          "data": {
            "image/png": "[encoded data removed]",
            "text/plain": [
              "<Figure size 432x288 with 1 Axes>"
            ]
          },
          "metadata": {
            "tags": [],
            "needs_background": "light"
          }
        }
      ]
    },
    {
      "cell_type": "markdown",
      "metadata": {
        "id": "ZtFSyDilagk4"
      },
      "source": [
        "## **Robust Scaling**"
      ]
    },
    {
      "cell_type": "code",
      "metadata": {
        "id": "a6497bcd",
        "colab": {
          "base_uri": "https://localhost:8080/",
          "height": 438
        },
        "outputId": "00a48e96-56e2-46b6-fc76-ec20eceeaceb"
      },
      "source": [
        "rob_scaler = RobustScaler()\n",
        "\n",
        "data['Amount'] = rob_scaler.fit_transform( data['Amount'].values.reshape(-1,1))\n",
        "data['Time'] = rob_scaler.fit_transform(data['Time'].values.reshape(-1,1))\n",
        "\n",
        "data"
      ],
      "execution_count": 31,
      "outputs": [
        {
          "output_type": "execute_result",
          "data": {
            "text/html": [
              "<div>\n",
              "<style scoped>\n",
              "    .dataframe tbody tr th:only-of-type {\n",
              "        vertical-align: middle;\n",
              "    }\n",
              "\n",
              "    .dataframe tbody tr th {\n",
              "        vertical-align: top;\n",
              "    }\n",
              "\n",
              "    .dataframe thead th {\n",
              "        text-align: right;\n",
              "    }\n",
              "</style>\n",
              "<table border=\"1\" class=\"dataframe\">\n",
              "  <thead>\n",
              "    <tr style=\"text-align: right;\">\n",
              "      <th></th>\n",
              "      <th>Time</th>\n",
              "      <th>V1</th>\n",
              "      <th>V2</th>\n",
              "      <th>V3</th>\n",
              "      <th>V4</th>\n",
              "      <th>V5</th>\n",
              "      <th>V6</th>\n",
              "      <th>V7</th>\n",
              "      <th>V8</th>\n",
              "      <th>V9</th>\n",
              "      <th>V10</th>\n",
              "      <th>V11</th>\n",
              "      <th>V12</th>\n",
              "      <th>V13</th>\n",
              "      <th>V14</th>\n",
              "      <th>V15</th>\n",
              "      <th>V16</th>\n",
              "      <th>V17</th>\n",
              "      <th>V18</th>\n",
              "      <th>V19</th>\n",
              "      <th>V20</th>\n",
              "      <th>V21</th>\n",
              "      <th>V22</th>\n",
              "      <th>V23</th>\n",
              "      <th>V24</th>\n",
              "      <th>V25</th>\n",
              "      <th>V26</th>\n",
              "      <th>V27</th>\n",
              "      <th>V28</th>\n",
              "      <th>Amount</th>\n",
              "      <th>Class</th>\n",
              "    </tr>\n",
              "  </thead>\n",
              "  <tbody>\n",
              "    <tr>\n",
              "      <th>0</th>\n",
              "      <td>-0.887476</td>\n",
              "      <td>-2.312227</td>\n",
              "      <td>1.951992</td>\n",
              "      <td>-1.609851</td>\n",
              "      <td>3.997906</td>\n",
              "      <td>-0.522188</td>\n",
              "      <td>-1.426545</td>\n",
              "      <td>-2.537387</td>\n",
              "      <td>1.391657</td>\n",
              "      <td>-2.770089</td>\n",
              "      <td>-2.772272</td>\n",
              "      <td>3.202033</td>\n",
              "      <td>-2.899907</td>\n",
              "      <td>-0.595222</td>\n",
              "      <td>-4.289254</td>\n",
              "      <td>0.389724</td>\n",
              "      <td>-1.140747</td>\n",
              "      <td>-2.830056</td>\n",
              "      <td>-0.016822</td>\n",
              "      <td>0.416956</td>\n",
              "      <td>0.126911</td>\n",
              "      <td>0.517232</td>\n",
              "      <td>-0.035049</td>\n",
              "      <td>-0.465211</td>\n",
              "      <td>0.320198</td>\n",
              "      <td>0.044519</td>\n",
              "      <td>0.177840</td>\n",
              "      <td>0.261145</td>\n",
              "      <td>-0.143276</td>\n",
              "      <td>-0.169864</td>\n",
              "      <td>1</td>\n",
              "    </tr>\n",
              "    <tr>\n",
              "      <th>1</th>\n",
              "      <td>-0.886738</td>\n",
              "      <td>-3.043541</td>\n",
              "      <td>-3.157307</td>\n",
              "      <td>1.088463</td>\n",
              "      <td>2.288644</td>\n",
              "      <td>1.359805</td>\n",
              "      <td>-1.064823</td>\n",
              "      <td>0.325574</td>\n",
              "      <td>-0.067794</td>\n",
              "      <td>-0.270953</td>\n",
              "      <td>-0.838587</td>\n",
              "      <td>-0.414575</td>\n",
              "      <td>-0.503141</td>\n",
              "      <td>0.676502</td>\n",
              "      <td>-1.692029</td>\n",
              "      <td>2.000635</td>\n",
              "      <td>0.666780</td>\n",
              "      <td>0.599717</td>\n",
              "      <td>1.725321</td>\n",
              "      <td>0.283345</td>\n",
              "      <td>2.102339</td>\n",
              "      <td>0.661696</td>\n",
              "      <td>0.435477</td>\n",
              "      <td>1.375966</td>\n",
              "      <td>-0.293803</td>\n",
              "      <td>0.279798</td>\n",
              "      <td>-0.145362</td>\n",
              "      <td>-0.252773</td>\n",
              "      <td>0.035764</td>\n",
              "      <td>5.199604</td>\n",
              "      <td>1</td>\n",
              "    </tr>\n",
              "    <tr>\n",
              "      <th>2</th>\n",
              "      <td>-0.842143</td>\n",
              "      <td>-2.303350</td>\n",
              "      <td>1.759247</td>\n",
              "      <td>-0.359745</td>\n",
              "      <td>2.330243</td>\n",
              "      <td>-0.821628</td>\n",
              "      <td>-0.075788</td>\n",
              "      <td>0.562320</td>\n",
              "      <td>-0.399147</td>\n",
              "      <td>-0.238253</td>\n",
              "      <td>-1.525412</td>\n",
              "      <td>2.032912</td>\n",
              "      <td>-6.560124</td>\n",
              "      <td>0.022937</td>\n",
              "      <td>-1.470102</td>\n",
              "      <td>-0.698826</td>\n",
              "      <td>-2.282194</td>\n",
              "      <td>-4.781831</td>\n",
              "      <td>-2.615665</td>\n",
              "      <td>-1.334441</td>\n",
              "      <td>-0.430022</td>\n",
              "      <td>-0.294166</td>\n",
              "      <td>-0.932391</td>\n",
              "      <td>0.172726</td>\n",
              "      <td>-0.087330</td>\n",
              "      <td>-0.156114</td>\n",
              "      <td>-0.542628</td>\n",
              "      <td>0.039566</td>\n",
              "      <td>-0.153029</td>\n",
              "      <td>2.265479</td>\n",
              "      <td>1</td>\n",
              "    </tr>\n",
              "    <tr>\n",
              "      <th>3</th>\n",
              "      <td>-0.813933</td>\n",
              "      <td>-4.397974</td>\n",
              "      <td>1.358367</td>\n",
              "      <td>-2.592844</td>\n",
              "      <td>2.679787</td>\n",
              "      <td>-1.128131</td>\n",
              "      <td>-1.706536</td>\n",
              "      <td>-3.496197</td>\n",
              "      <td>-0.248778</td>\n",
              "      <td>-0.247768</td>\n",
              "      <td>-4.801637</td>\n",
              "      <td>4.895844</td>\n",
              "      <td>-10.912819</td>\n",
              "      <td>0.184372</td>\n",
              "      <td>-6.771097</td>\n",
              "      <td>-0.007326</td>\n",
              "      <td>-7.358083</td>\n",
              "      <td>-12.598419</td>\n",
              "      <td>-5.131549</td>\n",
              "      <td>0.308334</td>\n",
              "      <td>-0.171608</td>\n",
              "      <td>0.573574</td>\n",
              "      <td>0.176968</td>\n",
              "      <td>-0.436207</td>\n",
              "      <td>-0.053502</td>\n",
              "      <td>0.252405</td>\n",
              "      <td>-0.657488</td>\n",
              "      <td>-0.827136</td>\n",
              "      <td>0.849573</td>\n",
              "      <td>0.428999</td>\n",
              "      <td>1</td>\n",
              "    </tr>\n",
              "    <tr>\n",
              "      <th>4</th>\n",
              "      <td>-0.807976</td>\n",
              "      <td>1.234235</td>\n",
              "      <td>3.019740</td>\n",
              "      <td>-4.304597</td>\n",
              "      <td>4.732795</td>\n",
              "      <td>3.624201</td>\n",
              "      <td>-1.357746</td>\n",
              "      <td>1.713445</td>\n",
              "      <td>-0.496358</td>\n",
              "      <td>-1.282858</td>\n",
              "      <td>-2.447469</td>\n",
              "      <td>2.101344</td>\n",
              "      <td>-4.609628</td>\n",
              "      <td>1.464378</td>\n",
              "      <td>-6.079337</td>\n",
              "      <td>-0.339237</td>\n",
              "      <td>2.581851</td>\n",
              "      <td>6.739384</td>\n",
              "      <td>3.042493</td>\n",
              "      <td>-2.721853</td>\n",
              "      <td>0.009061</td>\n",
              "      <td>-0.379068</td>\n",
              "      <td>-0.704181</td>\n",
              "      <td>-0.656805</td>\n",
              "      <td>-1.632653</td>\n",
              "      <td>1.488901</td>\n",
              "      <td>0.566797</td>\n",
              "      <td>-0.010016</td>\n",
              "      <td>0.146793</td>\n",
              "      <td>-0.159714</td>\n",
              "      <td>1</td>\n",
              "    </tr>\n",
              "    <tr>\n",
              "      <th>...</th>\n",
              "      <td>...</td>\n",
              "      <td>...</td>\n",
              "      <td>...</td>\n",
              "      <td>...</td>\n",
              "      <td>...</td>\n",
              "      <td>...</td>\n",
              "      <td>...</td>\n",
              "      <td>...</td>\n",
              "      <td>...</td>\n",
              "      <td>...</td>\n",
              "      <td>...</td>\n",
              "      <td>...</td>\n",
              "      <td>...</td>\n",
              "      <td>...</td>\n",
              "      <td>...</td>\n",
              "      <td>...</td>\n",
              "      <td>...</td>\n",
              "      <td>...</td>\n",
              "      <td>...</td>\n",
              "      <td>...</td>\n",
              "      <td>...</td>\n",
              "      <td>...</td>\n",
              "      <td>...</td>\n",
              "      <td>...</td>\n",
              "      <td>...</td>\n",
              "      <td>...</td>\n",
              "      <td>...</td>\n",
              "      <td>...</td>\n",
              "      <td>...</td>\n",
              "      <td>...</td>\n",
              "      <td>...</td>\n",
              "    </tr>\n",
              "    <tr>\n",
              "      <th>941</th>\n",
              "      <td>0.933893</td>\n",
              "      <td>-0.913930</td>\n",
              "      <td>0.840756</td>\n",
              "      <td>0.850447</td>\n",
              "      <td>-0.987562</td>\n",
              "      <td>0.197189</td>\n",
              "      <td>-0.097020</td>\n",
              "      <td>0.074473</td>\n",
              "      <td>0.541172</td>\n",
              "      <td>0.362919</td>\n",
              "      <td>-1.287904</td>\n",
              "      <td>0.762569</td>\n",
              "      <td>-0.415844</td>\n",
              "      <td>-2.046736</td>\n",
              "      <td>-0.742807</td>\n",
              "      <td>0.010617</td>\n",
              "      <td>0.856150</td>\n",
              "      <td>0.341069</td>\n",
              "      <td>1.096886</td>\n",
              "      <td>-0.006446</td>\n",
              "      <td>-0.221927</td>\n",
              "      <td>-0.165845</td>\n",
              "      <td>-0.581346</td>\n",
              "      <td>-0.002741</td>\n",
              "      <td>0.520712</td>\n",
              "      <td>-0.430664</td>\n",
              "      <td>-0.357934</td>\n",
              "      <td>-0.305901</td>\n",
              "      <td>-0.135354</td>\n",
              "      <td>-0.144488</td>\n",
              "      <td>0</td>\n",
              "    </tr>\n",
              "    <tr>\n",
              "      <th>942</th>\n",
              "      <td>0.739015</td>\n",
              "      <td>-1.134776</td>\n",
              "      <td>0.638536</td>\n",
              "      <td>1.383282</td>\n",
              "      <td>-0.096258</td>\n",
              "      <td>-0.297090</td>\n",
              "      <td>0.260119</td>\n",
              "      <td>-0.206016</td>\n",
              "      <td>0.779056</td>\n",
              "      <td>0.542083</td>\n",
              "      <td>-0.940762</td>\n",
              "      <td>-1.879734</td>\n",
              "      <td>-1.150663</td>\n",
              "      <td>-2.207510</td>\n",
              "      <td>0.379667</td>\n",
              "      <td>0.243744</td>\n",
              "      <td>0.980752</td>\n",
              "      <td>-0.773388</td>\n",
              "      <td>0.664124</td>\n",
              "      <td>-1.306500</td>\n",
              "      <td>-0.438332</td>\n",
              "      <td>0.152836</td>\n",
              "      <td>0.134468</td>\n",
              "      <td>-0.048160</td>\n",
              "      <td>0.492322</td>\n",
              "      <td>-0.315167</td>\n",
              "      <td>-0.888307</td>\n",
              "      <td>-0.070441</td>\n",
              "      <td>0.088185</td>\n",
              "      <td>0.218788</td>\n",
              "      <td>0</td>\n",
              "    </tr>\n",
              "    <tr>\n",
              "      <th>943</th>\n",
              "      <td>0.602738</td>\n",
              "      <td>2.014261</td>\n",
              "      <td>-0.127412</td>\n",
              "      <td>-1.012974</td>\n",
              "      <td>0.325930</td>\n",
              "      <td>-0.169882</td>\n",
              "      <td>-0.953292</td>\n",
              "      <td>0.052589</td>\n",
              "      <td>-0.168574</td>\n",
              "      <td>0.342377</td>\n",
              "      <td>0.255405</td>\n",
              "      <td>0.965661</td>\n",
              "      <td>0.923321</td>\n",
              "      <td>-0.478372</td>\n",
              "      <td>0.565211</td>\n",
              "      <td>-0.618964</td>\n",
              "      <td>0.084614</td>\n",
              "      <td>-0.479741</td>\n",
              "      <td>-0.350722</td>\n",
              "      <td>0.403781</td>\n",
              "      <td>-0.246464</td>\n",
              "      <td>-0.237060</td>\n",
              "      <td>-0.605116</td>\n",
              "      <td>0.345391</td>\n",
              "      <td>0.065334</td>\n",
              "      <td>-0.355533</td>\n",
              "      <td>0.174268</td>\n",
              "      <td>-0.077143</td>\n",
              "      <td>-0.070275</td>\n",
              "      <td>-0.160830</td>\n",
              "      <td>0</td>\n",
              "    </tr>\n",
              "    <tr>\n",
              "      <th>944</th>\n",
              "      <td>-0.233660</td>\n",
              "      <td>-0.287744</td>\n",
              "      <td>1.156227</td>\n",
              "      <td>0.950435</td>\n",
              "      <td>-0.140095</td>\n",
              "      <td>0.485150</td>\n",
              "      <td>-0.470715</td>\n",
              "      <td>0.774326</td>\n",
              "      <td>-0.067492</td>\n",
              "      <td>-0.461518</td>\n",
              "      <td>-0.539951</td>\n",
              "      <td>-0.825749</td>\n",
              "      <td>0.066636</td>\n",
              "      <td>1.064541</td>\n",
              "      <td>-0.638231</td>\n",
              "      <td>0.867744</td>\n",
              "      <td>0.591220</td>\n",
              "      <td>-0.342851</td>\n",
              "      <td>0.039438</td>\n",
              "      <td>0.218201</td>\n",
              "      <td>0.204351</td>\n",
              "      <td>-0.306542</td>\n",
              "      <td>-0.778402</td>\n",
              "      <td>-0.114536</td>\n",
              "      <td>-0.485661</td>\n",
              "      <td>-0.019256</td>\n",
              "      <td>0.121049</td>\n",
              "      <td>0.247793</td>\n",
              "      <td>0.091835</td>\n",
              "      <td>-0.073335</td>\n",
              "      <td>0</td>\n",
              "    </tr>\n",
              "    <tr>\n",
              "      <th>945</th>\n",
              "      <td>-0.034145</td>\n",
              "      <td>1.436853</td>\n",
              "      <td>-0.917775</td>\n",
              "      <td>0.078092</td>\n",
              "      <td>-1.389748</td>\n",
              "      <td>-1.286173</td>\n",
              "      <td>-1.111520</td>\n",
              "      <td>-0.557917</td>\n",
              "      <td>-0.238104</td>\n",
              "      <td>-2.413720</td>\n",
              "      <td>1.621299</td>\n",
              "      <td>1.445293</td>\n",
              "      <td>-0.238148</td>\n",
              "      <td>-0.040491</td>\n",
              "      <td>0.233001</td>\n",
              "      <td>-0.380273</td>\n",
              "      <td>-0.502373</td>\n",
              "      <td>0.496211</td>\n",
              "      <td>-0.090949</td>\n",
              "      <td>0.238452</td>\n",
              "      <td>-0.302730</td>\n",
              "      <td>-0.428159</td>\n",
              "      <td>-1.006727</td>\n",
              "      <td>0.145682</td>\n",
              "      <td>0.466701</td>\n",
              "      <td>0.261888</td>\n",
              "      <td>-0.481155</td>\n",
              "      <td>-0.007521</td>\n",
              "      <td>0.011374</td>\n",
              "      <td>0.246194</td>\n",
              "      <td>0</td>\n",
              "    </tr>\n",
              "  </tbody>\n",
              "</table>\n",
              "<p>946 rows × 31 columns</p>\n",
              "</div>"
            ],
            "text/plain": [
              "         Time        V1        V2        V3        V4        V5        V6        V7        V8        V9       V10       V11        V12       V13       V14       V15       V16        V17       V18       V19       V20       V21       V22       V23       V24       V25       V26       V27       V28    Amount  Class\n",
              "0   -0.887476 -2.312227  1.951992 -1.609851  3.997906 -0.522188 -1.426545 -2.537387  1.391657 -2.770089 -2.772272  3.202033  -2.899907 -0.595222 -4.289254  0.389724 -1.140747  -2.830056 -0.016822  0.416956  0.126911  0.517232 -0.035049 -0.465211  0.320198  0.044519  0.177840  0.261145 -0.143276 -0.169864      1\n",
              "1   -0.886738 -3.043541 -3.157307  1.088463  2.288644  1.359805 -1.064823  0.325574 -0.067794 -0.270953 -0.838587 -0.414575  -0.503141  0.676502 -1.692029  2.000635  0.666780   0.599717  1.725321  0.283345  2.102339  0.661696  0.435477  1.375966 -0.293803  0.279798 -0.145362 -0.252773  0.035764  5.199604      1\n",
              "2   -0.842143 -2.303350  1.759247 -0.359745  2.330243 -0.821628 -0.075788  0.562320 -0.399147 -0.238253 -1.525412  2.032912  -6.560124  0.022937 -1.470102 -0.698826 -2.282194  -4.781831 -2.615665 -1.334441 -0.430022 -0.294166 -0.932391  0.172726 -0.087330 -0.156114 -0.542628  0.039566 -0.153029  2.265479      1\n",
              "3   -0.813933 -4.397974  1.358367 -2.592844  2.679787 -1.128131 -1.706536 -3.496197 -0.248778 -0.247768 -4.801637  4.895844 -10.912819  0.184372 -6.771097 -0.007326 -7.358083 -12.598419 -5.131549  0.308334 -0.171608  0.573574  0.176968 -0.436207 -0.053502  0.252405 -0.657488 -0.827136  0.849573  0.428999      1\n",
              "4   -0.807976  1.234235  3.019740 -4.304597  4.732795  3.624201 -1.357746  1.713445 -0.496358 -1.282858 -2.447469  2.101344  -4.609628  1.464378 -6.079337 -0.339237  2.581851   6.739384  3.042493 -2.721853  0.009061 -0.379068 -0.704181 -0.656805 -1.632653  1.488901  0.566797 -0.010016  0.146793 -0.159714      1\n",
              "..        ...       ...       ...       ...       ...       ...       ...       ...       ...       ...       ...       ...        ...       ...       ...       ...       ...        ...       ...       ...       ...       ...       ...       ...       ...       ...       ...       ...       ...       ...    ...\n",
              "941  0.933893 -0.913930  0.840756  0.850447 -0.987562  0.197189 -0.097020  0.074473  0.541172  0.362919 -1.287904  0.762569  -0.415844 -2.046736 -0.742807  0.010617  0.856150   0.341069  1.096886 -0.006446 -0.221927 -0.165845 -0.581346 -0.002741  0.520712 -0.430664 -0.357934 -0.305901 -0.135354 -0.144488      0\n",
              "942  0.739015 -1.134776  0.638536  1.383282 -0.096258 -0.297090  0.260119 -0.206016  0.779056  0.542083 -0.940762 -1.879734  -1.150663 -2.207510  0.379667  0.243744  0.980752  -0.773388  0.664124 -1.306500 -0.438332  0.152836  0.134468 -0.048160  0.492322 -0.315167 -0.888307 -0.070441  0.088185  0.218788      0\n",
              "943  0.602738  2.014261 -0.127412 -1.012974  0.325930 -0.169882 -0.953292  0.052589 -0.168574  0.342377  0.255405  0.965661   0.923321 -0.478372  0.565211 -0.618964  0.084614  -0.479741 -0.350722  0.403781 -0.246464 -0.237060 -0.605116  0.345391  0.065334 -0.355533  0.174268 -0.077143 -0.070275 -0.160830      0\n",
              "944 -0.233660 -0.287744  1.156227  0.950435 -0.140095  0.485150 -0.470715  0.774326 -0.067492 -0.461518 -0.539951 -0.825749   0.066636  1.064541 -0.638231  0.867744  0.591220  -0.342851  0.039438  0.218201  0.204351 -0.306542 -0.778402 -0.114536 -0.485661 -0.019256  0.121049  0.247793  0.091835 -0.073335      0\n",
              "945 -0.034145  1.436853 -0.917775  0.078092 -1.389748 -1.286173 -1.111520 -0.557917 -0.238104 -2.413720  1.621299  1.445293  -0.238148 -0.040491  0.233001 -0.380273 -0.502373   0.496211 -0.090949  0.238452 -0.302730 -0.428159 -1.006727  0.145682  0.466701  0.261888 -0.481155 -0.007521  0.011374  0.246194      0\n",
              "\n",
              "[946 rows x 31 columns]"
            ]
          },
          "metadata": {
            "tags": []
          },
          "execution_count": 31
        }
      ]
    },
    {
      "cell_type": "markdown",
      "metadata": {
        "id": "jKfnHxu_Fke0"
      },
      "source": [
        "## **Selecting Important features**"
      ]
    },
    {
      "cell_type": "code",
      "metadata": {
        "id": "ffFO4VjVHXt5"
      },
      "source": [
        "features = data.drop(['Class'], axis=1)\n",
        "label = data['Class']"
      ],
      "execution_count": 32,
      "outputs": []
    },
    {
      "cell_type": "code",
      "metadata": {
        "colab": {
          "base_uri": "https://localhost:8080/"
        },
        "id": "8E7pWFJNJ_ti",
        "outputId": "90d950b5-9810-4ca9-80ee-1d9cb2645e47"
      },
      "source": [
        "modelLR = RandomForestClassifier()\n",
        "selectFeaturesFromRFE = RFE(estimator=modelLR,step=1)\n",
        "selectFeaturesFromRFE.fit(features,label)\n",
        "print(selectFeaturesFromRFE.ranking_)"
      ],
      "execution_count": 33,
      "outputs": [
        {
          "output_type": "stream",
          "text": [
            "[14  5  1  1  1  2 15  1  1  3  1  1  1  8  1 11  1  1  1  1  1  7 12  6\n",
            " 16  9  4 13 10  1]\n"
          ],
          "name": "stdout"
        }
      ]
    },
    {
      "cell_type": "markdown",
      "metadata": {
        "id": "8tyUVDRXPsTo"
      },
      "source": [
        "**Features Selected from RFE:  V2,\tV3,\tV4, V7, V8, V10, V11, V12, V14, V16, V17, V19, V20, V21, Amount**"
      ]
    },
    {
      "cell_type": "code",
      "metadata": {
        "id": "RJMXAzfhFS-U"
      },
      "source": [
        "finalFeatures = data.loc[:,['V2', 'V3', 'V4', 'V7', 'V8', 'V10', 'V11', 'V12', 'V14', 'V16', 'V17', 'V19', 'V20', 'V21', 'Amount']]\n",
        "label = data['Class']"
      ],
      "execution_count": 34,
      "outputs": []
    },
    {
      "cell_type": "markdown",
      "metadata": {
        "id": "sWi3-KJH4h1N"
      },
      "source": [
        "## **StratifiedKFold**"
      ]
    },
    {
      "cell_type": "code",
      "metadata": {
        "id": "930bfb02",
        "colab": {
          "base_uri": "https://localhost:8080/"
        },
        "outputId": "51d9f5e9-46f7-48f4-e7dc-6d63c1918064"
      },
      "source": [
        "sss = StratifiedKFold(n_splits=5, random_state=None, shuffle=False)\n",
        "for train_index, test_index in sss.split(finalFeatures, label):\n",
        "    print(\"Train:\", train_index, \"Test:\", test_index)\n",
        "    original_Xtrain, original_Xtest = finalFeatures.iloc[train_index], finalFeatures.iloc[test_index]\n",
        "    original_ytrain, original_ytest = label.iloc[train_index], label.iloc[test_index]\n",
        "original_Xtrain = original_Xtrain.values\n",
        "original_Xtest = original_Xtest.values\n",
        "original_ytrain = original_ytrain.values\n",
        "original_ytest = original_ytest.values\n",
        "\n",
        "# See if both the train and test label distribution are similarly distributed\n",
        "train_unique_label, train_counts_label = np.unique(original_ytrain, return_counts=True)\n",
        "test_unique_label, test_counts_label = np.unique(original_ytest, return_counts=True)\n",
        "print('-' * 100)\n",
        "\n",
        "print('Label Distributions: \\n')\n",
        "print(train_counts_label/ len(original_ytrain))\n",
        "print(test_counts_label/ len(original_ytest))"
      ],
      "execution_count": 41,
      "outputs": [
        {
          "output_type": "stream",
          "text": [
            "Train: [ 95  96  97  98  99 100 101 102 103 104 105 106 107 108 109 110 111 112\n",
            " 113 114 115 116 117 118 119 120 121 122 123 124 125 126 127 128 129 130\n",
            " 131 132 133 134 135 136 137 138 139 140 141 142 143 144 145 146 147 148\n",
            " 149 150 151 152 153 154 155 156 157 158 159 160 161 162 163 164 165 166\n",
            " 167 168 169 170 171 172 173 174 175 176 177 178 179 180 181 182 183 184\n",
            " 185 186 187 188 189 190 191 192 193 194 195 196 197 198 199 200 201 202\n",
            " 203 204 205 206 207 208 209 210 211 212 213 214 215 216 217 218 219 220\n",
            " 221 222 223 224 225 226 227 228 229 230 231 232 233 234 235 236 237 238\n",
            " 239 240 241 242 243 244 245 246 247 248 249 250 251 252 253 254 255 256\n",
            " 257 258 259 260 261 262 263 264 265 266 267 268 269 270 271 272 273 274\n",
            " 275 276 277 278 279 280 281 282 283 284 285 286 287 288 289 290 291 292\n",
            " 293 294 295 296 297 298 299 300 301 302 303 304 305 306 307 308 309 310\n",
            " 311 312 313 314 315 316 317 318 319 320 321 322 323 324 325 326 327 328\n",
            " 329 330 331 332 333 334 335 336 337 338 339 340 341 342 343 344 345 346\n",
            " 347 348 349 350 351 352 353 354 355 356 357 358 359 360 361 362 363 364\n",
            " 365 366 367 368 369 370 371 372 373 374 375 376 377 378 379 380 381 382\n",
            " 383 384 385 386 387 388 389 390 391 392 393 394 395 396 397 398 399 400\n",
            " 401 402 403 404 405 406 407 408 409 410 411 412 413 414 415 416 417 418\n",
            " 419 420 421 422 423 424 425 426 427 428 429 430 431 432 433 434 435 436\n",
            " 437 438 439 440 441 442 443 444 445 446 447 448 449 450 451 452 453 454\n",
            " 455 456 457 458 459 460 461 462 463 464 465 466 467 468 469 470 471 472\n",
            " 568 569 570 571 572 573 574 575 576 577 578 579 580 581 582 583 584 585\n",
            " 586 587 588 589 590 591 592 593 594 595 596 597 598 599 600 601 602 603\n",
            " 604 605 606 607 608 609 610 611 612 613 614 615 616 617 618 619 620 621\n",
            " 622 623 624 625 626 627 628 629 630 631 632 633 634 635 636 637 638 639\n",
            " 640 641 642 643 644 645 646 647 648 649 650 651 652 653 654 655 656 657\n",
            " 658 659 660 661 662 663 664 665 666 667 668 669 670 671 672 673 674 675\n",
            " 676 677 678 679 680 681 682 683 684 685 686 687 688 689 690 691 692 693\n",
            " 694 695 696 697 698 699 700 701 702 703 704 705 706 707 708 709 710 711\n",
            " 712 713 714 715 716 717 718 719 720 721 722 723 724 725 726 727 728 729\n",
            " 730 731 732 733 734 735 736 737 738 739 740 741 742 743 744 745 746 747\n",
            " 748 749 750 751 752 753 754 755 756 757 758 759 760 761 762 763 764 765\n",
            " 766 767 768 769 770 771 772 773 774 775 776 777 778 779 780 781 782 783\n",
            " 784 785 786 787 788 789 790 791 792 793 794 795 796 797 798 799 800 801\n",
            " 802 803 804 805 806 807 808 809 810 811 812 813 814 815 816 817 818 819\n",
            " 820 821 822 823 824 825 826 827 828 829 830 831 832 833 834 835 836 837\n",
            " 838 839 840 841 842 843 844 845 846 847 848 849 850 851 852 853 854 855\n",
            " 856 857 858 859 860 861 862 863 864 865 866 867 868 869 870 871 872 873\n",
            " 874 875 876 877 878 879 880 881 882 883 884 885 886 887 888 889 890 891\n",
            " 892 893 894 895 896 897 898 899 900 901 902 903 904 905 906 907 908 909\n",
            " 910 911 912 913 914 915 916 917 918 919 920 921 922 923 924 925 926 927\n",
            " 928 929 930 931 932 933 934 935 936 937 938 939 940 941 942 943 944 945] Test: [  0   1   2   3   4   5   6   7   8   9  10  11  12  13  14  15  16  17\n",
            "  18  19  20  21  22  23  24  25  26  27  28  29  30  31  32  33  34  35\n",
            "  36  37  38  39  40  41  42  43  44  45  46  47  48  49  50  51  52  53\n",
            "  54  55  56  57  58  59  60  61  62  63  64  65  66  67  68  69  70  71\n",
            "  72  73  74  75  76  77  78  79  80  81  82  83  84  85  86  87  88  89\n",
            "  90  91  92  93  94 473 474 475 476 477 478 479 480 481 482 483 484 485\n",
            " 486 487 488 489 490 491 492 493 494 495 496 497 498 499 500 501 502 503\n",
            " 504 505 506 507 508 509 510 511 512 513 514 515 516 517 518 519 520 521\n",
            " 522 523 524 525 526 527 528 529 530 531 532 533 534 535 536 537 538 539\n",
            " 540 541 542 543 544 545 546 547 548 549 550 551 552 553 554 555 556 557\n",
            " 558 559 560 561 562 563 564 565 566 567]\n",
            "Train: [  0   1   2   3   4   5   6   7   8   9  10  11  12  13  14  15  16  17\n",
            "  18  19  20  21  22  23  24  25  26  27  28  29  30  31  32  33  34  35\n",
            "  36  37  38  39  40  41  42  43  44  45  46  47  48  49  50  51  52  53\n",
            "  54  55  56  57  58  59  60  61  62  63  64  65  66  67  68  69  70  71\n",
            "  72  73  74  75  76  77  78  79  80  81  82  83  84  85  86  87  88  89\n",
            "  90  91  92  93  94 190 191 192 193 194 195 196 197 198 199 200 201 202\n",
            " 203 204 205 206 207 208 209 210 211 212 213 214 215 216 217 218 219 220\n",
            " 221 222 223 224 225 226 227 228 229 230 231 232 233 234 235 236 237 238\n",
            " 239 240 241 242 243 244 245 246 247 248 249 250 251 252 253 254 255 256\n",
            " 257 258 259 260 261 262 263 264 265 266 267 268 269 270 271 272 273 274\n",
            " 275 276 277 278 279 280 281 282 283 284 285 286 287 288 289 290 291 292\n",
            " 293 294 295 296 297 298 299 300 301 302 303 304 305 306 307 308 309 310\n",
            " 311 312 313 314 315 316 317 318 319 320 321 322 323 324 325 326 327 328\n",
            " 329 330 331 332 333 334 335 336 337 338 339 340 341 342 343 344 345 346\n",
            " 347 348 349 350 351 352 353 354 355 356 357 358 359 360 361 362 363 364\n",
            " 365 366 367 368 369 370 371 372 373 374 375 376 377 378 379 380 381 382\n",
            " 383 384 385 386 387 388 389 390 391 392 393 394 395 396 397 398 399 400\n",
            " 401 402 403 404 405 406 407 408 409 410 411 412 413 414 415 416 417 418\n",
            " 419 420 421 422 423 424 425 426 427 428 429 430 431 432 433 434 435 436\n",
            " 437 438 439 440 441 442 443 444 445 446 447 448 449 450 451 452 453 454\n",
            " 455 456 457 458 459 460 461 462 463 464 465 466 467 468 469 470 471 472\n",
            " 473 474 475 476 477 478 479 480 481 482 483 484 485 486 487 488 489 490\n",
            " 491 492 493 494 495 496 497 498 499 500 501 502 503 504 505 506 507 508\n",
            " 509 510 511 512 513 514 515 516 517 518 519 520 521 522 523 524 525 526\n",
            " 527 528 529 530 531 532 533 534 535 536 537 538 539 540 541 542 543 544\n",
            " 545 546 547 548 549 550 551 552 553 554 555 556 557 558 559 560 561 562\n",
            " 563 564 565 566 567 662 663 664 665 666 667 668 669 670 671 672 673 674\n",
            " 675 676 677 678 679 680 681 682 683 684 685 686 687 688 689 690 691 692\n",
            " 693 694 695 696 697 698 699 700 701 702 703 704 705 706 707 708 709 710\n",
            " 711 712 713 714 715 716 717 718 719 720 721 722 723 724 725 726 727 728\n",
            " 729 730 731 732 733 734 735 736 737 738 739 740 741 742 743 744 745 746\n",
            " 747 748 749 750 751 752 753 754 755 756 757 758 759 760 761 762 763 764\n",
            " 765 766 767 768 769 770 771 772 773 774 775 776 777 778 779 780 781 782\n",
            " 783 784 785 786 787 788 789 790 791 792 793 794 795 796 797 798 799 800\n",
            " 801 802 803 804 805 806 807 808 809 810 811 812 813 814 815 816 817 818\n",
            " 819 820 821 822 823 824 825 826 827 828 829 830 831 832 833 834 835 836\n",
            " 837 838 839 840 841 842 843 844 845 846 847 848 849 850 851 852 853 854\n",
            " 855 856 857 858 859 860 861 862 863 864 865 866 867 868 869 870 871 872\n",
            " 873 874 875 876 877 878 879 880 881 882 883 884 885 886 887 888 889 890\n",
            " 891 892 893 894 895 896 897 898 899 900 901 902 903 904 905 906 907 908\n",
            " 909 910 911 912 913 914 915 916 917 918 919 920 921 922 923 924 925 926\n",
            " 927 928 929 930 931 932 933 934 935 936 937 938 939 940 941 942 943 944\n",
            " 945] Test: [ 95  96  97  98  99 100 101 102 103 104 105 106 107 108 109 110 111 112\n",
            " 113 114 115 116 117 118 119 120 121 122 123 124 125 126 127 128 129 130\n",
            " 131 132 133 134 135 136 137 138 139 140 141 142 143 144 145 146 147 148\n",
            " 149 150 151 152 153 154 155 156 157 158 159 160 161 162 163 164 165 166\n",
            " 167 168 169 170 171 172 173 174 175 176 177 178 179 180 181 182 183 184\n",
            " 185 186 187 188 189 568 569 570 571 572 573 574 575 576 577 578 579 580\n",
            " 581 582 583 584 585 586 587 588 589 590 591 592 593 594 595 596 597 598\n",
            " 599 600 601 602 603 604 605 606 607 608 609 610 611 612 613 614 615 616\n",
            " 617 618 619 620 621 622 623 624 625 626 627 628 629 630 631 632 633 634\n",
            " 635 636 637 638 639 640 641 642 643 644 645 646 647 648 649 650 651 652\n",
            " 653 654 655 656 657 658 659 660 661]\n",
            "Train: [  0   1   2   3   4   5   6   7   8   9  10  11  12  13  14  15  16  17\n",
            "  18  19  20  21  22  23  24  25  26  27  28  29  30  31  32  33  34  35\n",
            "  36  37  38  39  40  41  42  43  44  45  46  47  48  49  50  51  52  53\n",
            "  54  55  56  57  58  59  60  61  62  63  64  65  66  67  68  69  70  71\n",
            "  72  73  74  75  76  77  78  79  80  81  82  83  84  85  86  87  88  89\n",
            "  90  91  92  93  94  95  96  97  98  99 100 101 102 103 104 105 106 107\n",
            " 108 109 110 111 112 113 114 115 116 117 118 119 120 121 122 123 124 125\n",
            " 126 127 128 129 130 131 132 133 134 135 136 137 138 139 140 141 142 143\n",
            " 144 145 146 147 148 149 150 151 152 153 154 155 156 157 158 159 160 161\n",
            " 162 163 164 165 166 167 168 169 170 171 172 173 174 175 176 177 178 179\n",
            " 180 181 182 183 184 185 186 187 188 189 285 286 287 288 289 290 291 292\n",
            " 293 294 295 296 297 298 299 300 301 302 303 304 305 306 307 308 309 310\n",
            " 311 312 313 314 315 316 317 318 319 320 321 322 323 324 325 326 327 328\n",
            " 329 330 331 332 333 334 335 336 337 338 339 340 341 342 343 344 345 346\n",
            " 347 348 349 350 351 352 353 354 355 356 357 358 359 360 361 362 363 364\n",
            " 365 366 367 368 369 370 371 372 373 374 375 376 377 378 379 380 381 382\n",
            " 383 384 385 386 387 388 389 390 391 392 393 394 395 396 397 398 399 400\n",
            " 401 402 403 404 405 406 407 408 409 410 411 412 413 414 415 416 417 418\n",
            " 419 420 421 422 423 424 425 426 427 428 429 430 431 432 433 434 435 436\n",
            " 437 438 439 440 441 442 443 444 445 446 447 448 449 450 451 452 453 454\n",
            " 455 456 457 458 459 460 461 462 463 464 465 466 467 468 469 470 471 472\n",
            " 473 474 475 476 477 478 479 480 481 482 483 484 485 486 487 488 489 490\n",
            " 491 492 493 494 495 496 497 498 499 500 501 502 503 504 505 506 507 508\n",
            " 509 510 511 512 513 514 515 516 517 518 519 520 521 522 523 524 525 526\n",
            " 527 528 529 530 531 532 533 534 535 536 537 538 539 540 541 542 543 544\n",
            " 545 546 547 548 549 550 551 552 553 554 555 556 557 558 559 560 561 562\n",
            " 563 564 565 566 567 568 569 570 571 572 573 574 575 576 577 578 579 580\n",
            " 581 582 583 584 585 586 587 588 589 590 591 592 593 594 595 596 597 598\n",
            " 599 600 601 602 603 604 605 606 607 608 609 610 611 612 613 614 615 616\n",
            " 617 618 619 620 621 622 623 624 625 626 627 628 629 630 631 632 633 634\n",
            " 635 636 637 638 639 640 641 642 643 644 645 646 647 648 649 650 651 652\n",
            " 653 654 655 656 657 658 659 660 661 756 757 758 759 760 761 762 763 764\n",
            " 765 766 767 768 769 770 771 772 773 774 775 776 777 778 779 780 781 782\n",
            " 783 784 785 786 787 788 789 790 791 792 793 794 795 796 797 798 799 800\n",
            " 801 802 803 804 805 806 807 808 809 810 811 812 813 814 815 816 817 818\n",
            " 819 820 821 822 823 824 825 826 827 828 829 830 831 832 833 834 835 836\n",
            " 837 838 839 840 841 842 843 844 845 846 847 848 849 850 851 852 853 854\n",
            " 855 856 857 858 859 860 861 862 863 864 865 866 867 868 869 870 871 872\n",
            " 873 874 875 876 877 878 879 880 881 882 883 884 885 886 887 888 889 890\n",
            " 891 892 893 894 895 896 897 898 899 900 901 902 903 904 905 906 907 908\n",
            " 909 910 911 912 913 914 915 916 917 918 919 920 921 922 923 924 925 926\n",
            " 927 928 929 930 931 932 933 934 935 936 937 938 939 940 941 942 943 944\n",
            " 945] Test: [190 191 192 193 194 195 196 197 198 199 200 201 202 203 204 205 206 207\n",
            " 208 209 210 211 212 213 214 215 216 217 218 219 220 221 222 223 224 225\n",
            " 226 227 228 229 230 231 232 233 234 235 236 237 238 239 240 241 242 243\n",
            " 244 245 246 247 248 249 250 251 252 253 254 255 256 257 258 259 260 261\n",
            " 262 263 264 265 266 267 268 269 270 271 272 273 274 275 276 277 278 279\n",
            " 280 281 282 283 284 662 663 664 665 666 667 668 669 670 671 672 673 674\n",
            " 675 676 677 678 679 680 681 682 683 684 685 686 687 688 689 690 691 692\n",
            " 693 694 695 696 697 698 699 700 701 702 703 704 705 706 707 708 709 710\n",
            " 711 712 713 714 715 716 717 718 719 720 721 722 723 724 725 726 727 728\n",
            " 729 730 731 732 733 734 735 736 737 738 739 740 741 742 743 744 745 746\n",
            " 747 748 749 750 751 752 753 754 755]\n",
            "Train: [  0   1   2   3   4   5   6   7   8   9  10  11  12  13  14  15  16  17\n",
            "  18  19  20  21  22  23  24  25  26  27  28  29  30  31  32  33  34  35\n",
            "  36  37  38  39  40  41  42  43  44  45  46  47  48  49  50  51  52  53\n",
            "  54  55  56  57  58  59  60  61  62  63  64  65  66  67  68  69  70  71\n",
            "  72  73  74  75  76  77  78  79  80  81  82  83  84  85  86  87  88  89\n",
            "  90  91  92  93  94  95  96  97  98  99 100 101 102 103 104 105 106 107\n",
            " 108 109 110 111 112 113 114 115 116 117 118 119 120 121 122 123 124 125\n",
            " 126 127 128 129 130 131 132 133 134 135 136 137 138 139 140 141 142 143\n",
            " 144 145 146 147 148 149 150 151 152 153 154 155 156 157 158 159 160 161\n",
            " 162 163 164 165 166 167 168 169 170 171 172 173 174 175 176 177 178 179\n",
            " 180 181 182 183 184 185 186 187 188 189 190 191 192 193 194 195 196 197\n",
            " 198 199 200 201 202 203 204 205 206 207 208 209 210 211 212 213 214 215\n",
            " 216 217 218 219 220 221 222 223 224 225 226 227 228 229 230 231 232 233\n",
            " 234 235 236 237 238 239 240 241 242 243 244 245 246 247 248 249 250 251\n",
            " 252 253 254 255 256 257 258 259 260 261 262 263 264 265 266 267 268 269\n",
            " 270 271 272 273 274 275 276 277 278 279 280 281 282 283 284 379 380 381\n",
            " 382 383 384 385 386 387 388 389 390 391 392 393 394 395 396 397 398 399\n",
            " 400 401 402 403 404 405 406 407 408 409 410 411 412 413 414 415 416 417\n",
            " 418 419 420 421 422 423 424 425 426 427 428 429 430 431 432 433 434 435\n",
            " 436 437 438 439 440 441 442 443 444 445 446 447 448 449 450 451 452 453\n",
            " 454 455 456 457 458 459 460 461 462 463 464 465 466 467 468 469 470 471\n",
            " 472 473 474 475 476 477 478 479 480 481 482 483 484 485 486 487 488 489\n",
            " 490 491 492 493 494 495 496 497 498 499 500 501 502 503 504 505 506 507\n",
            " 508 509 510 511 512 513 514 515 516 517 518 519 520 521 522 523 524 525\n",
            " 526 527 528 529 530 531 532 533 534 535 536 537 538 539 540 541 542 543\n",
            " 544 545 546 547 548 549 550 551 552 553 554 555 556 557 558 559 560 561\n",
            " 562 563 564 565 566 567 568 569 570 571 572 573 574 575 576 577 578 579\n",
            " 580 581 582 583 584 585 586 587 588 589 590 591 592 593 594 595 596 597\n",
            " 598 599 600 601 602 603 604 605 606 607 608 609 610 611 612 613 614 615\n",
            " 616 617 618 619 620 621 622 623 624 625 626 627 628 629 630 631 632 633\n",
            " 634 635 636 637 638 639 640 641 642 643 644 645 646 647 648 649 650 651\n",
            " 652 653 654 655 656 657 658 659 660 661 662 663 664 665 666 667 668 669\n",
            " 670 671 672 673 674 675 676 677 678 679 680 681 682 683 684 685 686 687\n",
            " 688 689 690 691 692 693 694 695 696 697 698 699 700 701 702 703 704 705\n",
            " 706 707 708 709 710 711 712 713 714 715 716 717 718 719 720 721 722 723\n",
            " 724 725 726 727 728 729 730 731 732 733 734 735 736 737 738 739 740 741\n",
            " 742 743 744 745 746 747 748 749 750 751 752 753 754 755 851 852 853 854\n",
            " 855 856 857 858 859 860 861 862 863 864 865 866 867 868 869 870 871 872\n",
            " 873 874 875 876 877 878 879 880 881 882 883 884 885 886 887 888 889 890\n",
            " 891 892 893 894 895 896 897 898 899 900 901 902 903 904 905 906 907 908\n",
            " 909 910 911 912 913 914 915 916 917 918 919 920 921 922 923 924 925 926\n",
            " 927 928 929 930 931 932 933 934 935 936 937 938 939 940 941 942 943 944\n",
            " 945] Test: [285 286 287 288 289 290 291 292 293 294 295 296 297 298 299 300 301 302\n",
            " 303 304 305 306 307 308 309 310 311 312 313 314 315 316 317 318 319 320\n",
            " 321 322 323 324 325 326 327 328 329 330 331 332 333 334 335 336 337 338\n",
            " 339 340 341 342 343 344 345 346 347 348 349 350 351 352 353 354 355 356\n",
            " 357 358 359 360 361 362 363 364 365 366 367 368 369 370 371 372 373 374\n",
            " 375 376 377 378 756 757 758 759 760 761 762 763 764 765 766 767 768 769\n",
            " 770 771 772 773 774 775 776 777 778 779 780 781 782 783 784 785 786 787\n",
            " 788 789 790 791 792 793 794 795 796 797 798 799 800 801 802 803 804 805\n",
            " 806 807 808 809 810 811 812 813 814 815 816 817 818 819 820 821 822 823\n",
            " 824 825 826 827 828 829 830 831 832 833 834 835 836 837 838 839 840 841\n",
            " 842 843 844 845 846 847 848 849 850]\n",
            "Train: [  0   1   2   3   4   5   6   7   8   9  10  11  12  13  14  15  16  17\n",
            "  18  19  20  21  22  23  24  25  26  27  28  29  30  31  32  33  34  35\n",
            "  36  37  38  39  40  41  42  43  44  45  46  47  48  49  50  51  52  53\n",
            "  54  55  56  57  58  59  60  61  62  63  64  65  66  67  68  69  70  71\n",
            "  72  73  74  75  76  77  78  79  80  81  82  83  84  85  86  87  88  89\n",
            "  90  91  92  93  94  95  96  97  98  99 100 101 102 103 104 105 106 107\n",
            " 108 109 110 111 112 113 114 115 116 117 118 119 120 121 122 123 124 125\n",
            " 126 127 128 129 130 131 132 133 134 135 136 137 138 139 140 141 142 143\n",
            " 144 145 146 147 148 149 150 151 152 153 154 155 156 157 158 159 160 161\n",
            " 162 163 164 165 166 167 168 169 170 171 172 173 174 175 176 177 178 179\n",
            " 180 181 182 183 184 185 186 187 188 189 190 191 192 193 194 195 196 197\n",
            " 198 199 200 201 202 203 204 205 206 207 208 209 210 211 212 213 214 215\n",
            " 216 217 218 219 220 221 222 223 224 225 226 227 228 229 230 231 232 233\n",
            " 234 235 236 237 238 239 240 241 242 243 244 245 246 247 248 249 250 251\n",
            " 252 253 254 255 256 257 258 259 260 261 262 263 264 265 266 267 268 269\n",
            " 270 271 272 273 274 275 276 277 278 279 280 281 282 283 284 285 286 287\n",
            " 288 289 290 291 292 293 294 295 296 297 298 299 300 301 302 303 304 305\n",
            " 306 307 308 309 310 311 312 313 314 315 316 317 318 319 320 321 322 323\n",
            " 324 325 326 327 328 329 330 331 332 333 334 335 336 337 338 339 340 341\n",
            " 342 343 344 345 346 347 348 349 350 351 352 353 354 355 356 357 358 359\n",
            " 360 361 362 363 364 365 366 367 368 369 370 371 372 373 374 375 376 377\n",
            " 378 473 474 475 476 477 478 479 480 481 482 483 484 485 486 487 488 489\n",
            " 490 491 492 493 494 495 496 497 498 499 500 501 502 503 504 505 506 507\n",
            " 508 509 510 511 512 513 514 515 516 517 518 519 520 521 522 523 524 525\n",
            " 526 527 528 529 530 531 532 533 534 535 536 537 538 539 540 541 542 543\n",
            " 544 545 546 547 548 549 550 551 552 553 554 555 556 557 558 559 560 561\n",
            " 562 563 564 565 566 567 568 569 570 571 572 573 574 575 576 577 578 579\n",
            " 580 581 582 583 584 585 586 587 588 589 590 591 592 593 594 595 596 597\n",
            " 598 599 600 601 602 603 604 605 606 607 608 609 610 611 612 613 614 615\n",
            " 616 617 618 619 620 621 622 623 624 625 626 627 628 629 630 631 632 633\n",
            " 634 635 636 637 638 639 640 641 642 643 644 645 646 647 648 649 650 651\n",
            " 652 653 654 655 656 657 658 659 660 661 662 663 664 665 666 667 668 669\n",
            " 670 671 672 673 674 675 676 677 678 679 680 681 682 683 684 685 686 687\n",
            " 688 689 690 691 692 693 694 695 696 697 698 699 700 701 702 703 704 705\n",
            " 706 707 708 709 710 711 712 713 714 715 716 717 718 719 720 721 722 723\n",
            " 724 725 726 727 728 729 730 731 732 733 734 735 736 737 738 739 740 741\n",
            " 742 743 744 745 746 747 748 749 750 751 752 753 754 755 756 757 758 759\n",
            " 760 761 762 763 764 765 766 767 768 769 770 771 772 773 774 775 776 777\n",
            " 778 779 780 781 782 783 784 785 786 787 788 789 790 791 792 793 794 795\n",
            " 796 797 798 799 800 801 802 803 804 805 806 807 808 809 810 811 812 813\n",
            " 814 815 816 817 818 819 820 821 822 823 824 825 826 827 828 829 830 831\n",
            " 832 833 834 835 836 837 838 839 840 841 842 843 844 845 846 847 848 849\n",
            " 850] Test: [379 380 381 382 383 384 385 386 387 388 389 390 391 392 393 394 395 396\n",
            " 397 398 399 400 401 402 403 404 405 406 407 408 409 410 411 412 413 414\n",
            " 415 416 417 418 419 420 421 422 423 424 425 426 427 428 429 430 431 432\n",
            " 433 434 435 436 437 438 439 440 441 442 443 444 445 446 447 448 449 450\n",
            " 451 452 453 454 455 456 457 458 459 460 461 462 463 464 465 466 467 468\n",
            " 469 470 471 472 851 852 853 854 855 856 857 858 859 860 861 862 863 864\n",
            " 865 866 867 868 869 870 871 872 873 874 875 876 877 878 879 880 881 882\n",
            " 883 884 885 886 887 888 889 890 891 892 893 894 895 896 897 898 899 900\n",
            " 901 902 903 904 905 906 907 908 909 910 911 912 913 914 915 916 917 918\n",
            " 919 920 921 922 923 924 925 926 927 928 929 930 931 932 933 934 935 936\n",
            " 937 938 939 940 941 942 943 944 945]\n",
            "----------------------------------------------------------------------------------------------------\n",
            "Label Distributions: \n",
            "\n",
            "[0.4993395 0.5006605]\n",
            "[0.5026455 0.4973545]\n"
          ],
          "name": "stdout"
        }
      ]
    },
    {
      "cell_type": "markdown",
      "metadata": {
        "id": "W_41FoII6DH6"
      },
      "source": [
        "## **Checking for Density Alogrithm requirement**"
      ]
    },
    {
      "cell_type": "code",
      "metadata": {
        "id": "df4c51a3",
        "colab": {
          "base_uri": "https://localhost:8080/"
        },
        "outputId": "20e87a95-2969-468c-e954-a0cd303867c5"
      },
      "source": [
        "# T-SNE Implementation\n",
        "t0 = time.time()\n",
        "X_reduced_tsne = TSNE(n_components=2, random_state=42).fit_transform(finalFeatures.values)\n",
        "t1 = time.time()\n",
        "print(\"T-SNE took {:.2} s\".format(t1 - t0))"
      ],
      "execution_count": 46,
      "outputs": [
        {
          "output_type": "stream",
          "text": [
            "T-SNE took 5.4 s\n"
          ],
          "name": "stdout"
        }
      ]
    },
    {
      "cell_type": "code",
      "metadata": {
        "id": "8ff1b729",
        "colab": {
          "base_uri": "https://localhost:8080/",
          "height": 411
        },
        "outputId": "cf7d3dfe-55b6-42e3-96e1-e732b1ac0baa"
      },
      "source": [
        "f, (ax1) = plt.subplots(1, 1, figsize=(24,6))\n",
        "# labels = ['No Fraud', 'Fraud']\n",
        "f.suptitle('Clusters using Dimensionality Reduction', fontsize=14)\n",
        "\n",
        "\n",
        "blue_patch = mpatches.Patch(color='#0A0AFF', label='No Fraud')\n",
        "red_patch = mpatches.Patch(color='#AF0000', label='Fraud')\n",
        "\n",
        "\n",
        "# t-SNE scatter plot\n",
        "ax1.scatter(X_reduced_tsne[:,0], X_reduced_tsne[:,1], c=(label == 0), cmap='coolwarm', label='No Fraud', linewidths=2)\n",
        "ax1.scatter(X_reduced_tsne[:,0], X_reduced_tsne[:,1], c=(label == 1), cmap='coolwarm', label='Fraud', linewidths=2)\n",
        "ax1.set_title('t-SNE', fontsize=14)\n",
        "\n",
        "ax1.grid(True)\n",
        "\n",
        "ax1.legend(handles=[blue_patch, red_patch])\n",
        "plt.show()"
      ],
      "execution_count": 47,
      "outputs": [
        {
          "output_type": "display_data",
          "data": {
            "image/png": "[encoded data removed]",
            "text/plain": [
              "<Figure size 1728x432 with 1 Axes>"
            ]
          },
          "metadata": {
            "tags": [],
            "needs_background": "light"
          }
        }
      ]
    },
    {
      "cell_type": "markdown",
      "metadata": {
        "id": "Mubnt0KP8hq_"
      },
      "source": [
        "## **Model Building**"
      ]
    },
    {
      "cell_type": "code",
      "metadata": {
        "id": "b6c8c162"
      },
      "source": [
        "X_train, X_test, y_train, y_test = train_test_split(finalFeatures, label, test_size=0.2, random_state=4)\n",
        "X_train = X_train.values\n",
        "X_test = X_test.values\n",
        "y_train = y_train.values\n",
        "y_test = y_test.values"
      ],
      "execution_count": 49,
      "outputs": []
    },
    {
      "cell_type": "code",
      "metadata": {
        "id": "LUS6eGWNt7LE"
      },
      "source": [
        "def ModelTypes():\n",
        "  modelType = []\n",
        "  modelType.append(('LogisticRegression', LogisticRegression()))\n",
        "  modelType.append(('KNN', KNeighborsClassifier(n_neighbors=2)))\n",
        "  modelType.append(('SVC', SVC())) \n",
        "  modelType.append(('ExtraTreesClassifier', ExtraTreesClassifier(n_jobs=-1, min_samples_leaf=1, max_depth=20, min_samples_split=3, n_estimators=1000)))\n",
        "  modelType.append(('DecisionTree', DecisionTreeClassifier()))\n",
        "  modelType.append(('RandomForest', RandomForestClassifier()))\n",
        "  modelType.append(('XGBRF', XGBRFClassifier(n_jobs=-1)))\n",
        "  modelType.append(('GradientBoostingClassifier', GradientBoostingClassifier(random_state=32,max_depth=5,n_estimators=500,min_samples_split=2,min_samples_leaf=2)))\n",
        "  modelType.append(('XGBClassifier', XGBClassifier(n_estimators=500,max_depth=5,booster='gbtree',n_jobs=-1,learning_rate=0.1,reg_lambda=0.01,reg_alpha=0.3)))\n",
        "  modelType.append(('CatBoostClassifier', CatBoostClassifier(silent=True)))\n",
        "\n",
        "  return modelType"
      ],
      "execution_count": 50,
      "outputs": []
    },
    {
      "cell_type": "code",
      "metadata": {
        "id": "EqOdRBxvoYeH"
      },
      "source": [
        "def ModelBuilding(X_train, y_train, models):\n",
        "  num_folds = 10\n",
        "  scoring = 'recall'\n",
        "  SEED = 32\n",
        "  modelScoreDict = {}\n",
        "  for name, model in models:\n",
        "    kfold = KFold(n_splits=num_folds, random_state=SEED)\n",
        "    cv_results = cross_val_score(model, X_train, y_train, cv=kfold, scoring = scoring)\n",
        "    modelScoreDict[name] = cv_results\n",
        "    scores = \"{}: {} ({})\" .format(name, cv_results.mean(), cv_results.std())\n",
        "    print(scores)\n",
        "\n",
        "  return modelScoreDict"
      ],
      "execution_count": 51,
      "outputs": []
    },
    {
      "cell_type": "code",
      "metadata": {
        "colab": {
          "base_uri": "https://localhost:8080/"
        },
        "id": "J9j6Co0At7LF",
        "outputId": "b24519c4-ab99-43d1-be06-7331e12990e7"
      },
      "source": [
        "%%time\n",
        "models = ModelTypes()\n",
        "print(\"Printing details based on recall score\", \"\\n\")\n",
        "modelScoreDict = ModelBuilding(X_train, y_train, models)"
      ],
      "execution_count": 52,
      "outputs": [
        {
          "output_type": "stream",
          "text": [
            "printing details based on recall score\n",
            "LogisticRegression: 0.9008893907256063 (0.035668859128232325)\n",
            "KNN: 0.8564795092277573 (0.050786738664198104)\n",
            "SVC: 0.8700716075546975 (0.05759860326922076)\n",
            "ExtraTreesClassifier: 0.8958391731498491 (0.05454624090047159)\n",
            "DecisionTree: 0.9013662720209737 (0.061380843793803944)\n",
            "RandomForest: 0.8983893907256064 (0.0413275267241788)\n",
            "XGBRF: 0.8754487288620514 (0.048819438159758644)\n",
            "GradientBoostingClassifier: 0.9010638093302574 (0.03468433527232414)\n",
            "XGBClassifier: 0.9114409205162666 (0.03789764126774343)\n",
            "CatBoostClassifier: 0.9019610508414944 (0.038621102777025317)\n",
            "CPU times: user 1min 38s, sys: 3.44 s, total: 1min 42s\n",
            "Wall time: 1min 11s\n"
          ],
          "name": "stdout"
        }
      ]
    },
    {
      "cell_type": "code",
      "metadata": {
        "id": "5f5e2a43",
        "colab": {
          "base_uri": "https://localhost:8080/"
        },
        "outputId": "aa9e9af9-5bc3-428a-90bc-23d667348b56"
      },
      "source": [
        "classifiers = {\n",
        "    \"LogisiticRegression\": LogisticRegression(),\n",
        "    \"KNearest\": KNeighborsClassifier(),\n",
        "    \"Support Vector Classifier\": SVC(),\n",
        "    \"DecisionTreeClassifier\": DecisionTreeClassifier(),\n",
        "    \"ExtraTreesClassifier\": ExtraTreesClassifier(),\n",
        "    \"RandomForest\": RandomForestClassifier(),\n",
        "    \"XGBRF\": XGBRFClassifier(n_jobs=-1),\n",
        "    \"GradientBoostingClassifier\": GradientBoostingClassifier(),\n",
        "    \"XGBClassifier\": XGBClassifier(),\n",
        "    \"CatBoostClassifier\": CatBoostClassifier(silent=True),\n",
        "}\n",
        "\n",
        "print(\"Printing details based on accuracy score\", \"\\n\")\n",
        "\n",
        "for key, classifier in classifiers.items():\n",
        "    classifier.fit(X_train, y_train)\n",
        "    training_score = cross_val_score(classifier, X_train, y_train, cv=5)\n",
        "    print(\"Classifiers: \", classifier.__class__.__name__, \"Has a training score of\", round(training_score.mean(), 2) * 100, \"% accuracy score\")"
      ],
      "execution_count": 55,
      "outputs": [
        {
          "output_type": "stream",
          "text": [
            "Printing details based on accuracy score \n",
            "\n",
            "Classifiers:  LogisticRegression Has a training score of 93.0 % accuracy score\n",
            "Classifiers:  KNeighborsClassifier Has a training score of 93.0 % accuracy score\n",
            "Classifiers:  SVC Has a training score of 92.0 % accuracy score\n",
            "Classifiers:  DecisionTreeClassifier Has a training score of 88.0 % accuracy score\n",
            "Classifiers:  ExtraTreesClassifier Has a training score of 93.0 % accuracy score\n",
            "Classifiers:  RandomForestClassifier Has a training score of 92.0 % accuracy score\n",
            "Classifiers:  XGBRFClassifier Has a training score of 92.0 % accuracy score\n",
            "Classifiers:  GradientBoostingClassifier Has a training score of 93.0 % accuracy score\n",
            "Classifiers:  XGBClassifier Has a training score of 93.0 % accuracy score\n"
          ],
          "name": "stdout"
        },
        {
          "output_type": "stream",
          "text": [
            "Custom logger is already specified. Specify more than one logger at same time is not thread safe."
          ],
          "name": "stderr"
        },
        {
          "output_type": "stream",
          "text": [
            "Classifiers:  CatBoostClassifier Has a training score of 93.0 % accuracy score\n"
          ],
          "name": "stdout"
        }
      ]
    },
    {
      "cell_type": "markdown",
      "metadata": {
        "id": "gqTdL3mU6AMZ"
      },
      "source": [
        "## **Voting Classifier**"
      ]
    },
    {
      "cell_type": "code",
      "metadata": {
        "id": "FZTFdQCP6GuH"
      },
      "source": [
        "gbr = GradientBoostingClassifier(random_state=32,max_depth=5,n_estimators=500,min_samples_split=2,min_samples_leaf=2)\n",
        "dt = DecisionTreeClassifier()\n",
        "xgb = XGBClassifier(n_estimators=500,max_depth=5,booster='gbtree',n_jobs=-1,learning_rate=0.1,reg_lambda=0.01,reg_alpha=0.3)"
      ],
      "execution_count": 58,
      "outputs": []
    },
    {
      "cell_type": "code",
      "metadata": {
        "colab": {
          "base_uri": "https://localhost:8080/"
        },
        "id": "S6eqYfZM6E56",
        "outputId": "ae2fbfc4-897c-49db-aff6-6176218ee78b"
      },
      "source": [
        "modelFinal = VotingClassifier([('gbr', gbr),('xgb',xgb),('dt', dt)])\n",
        "\n",
        "modelFinal.fit(X_train, y_train)\n",
        "y_pred = modelFinal.predict(X_test)\n",
        "  \n",
        "# using accuracy_score metric to predict accuracy\n",
        "score = accuracy_score(y_test, y_pred)\n",
        "recallScore = recall_score(y_test, y_pred )\n",
        "precisionScore = precision_score(y_test, y_pred )\n",
        "print(\"Hard Voting Score %.3f\" % score)\n",
        "print(\"Hard Voting Recall Score %.3f\" % recallScore)\n",
        "print(\"Hard Voting Recall Score %.3f\" % precisionScore)"
      ],
      "execution_count": 59,
      "outputs": [
        {
          "output_type": "stream",
          "text": [
            "Hard Voting Score 0.963\n",
            "Hard Voting Recall Score 0.946\n",
            "Hard Voting Recall Score 0.978\n",
            "CPU times: user 1.53 s, sys: 2.45 ms, total: 1.53 s\n",
            "Wall time: 1.53 s\n"
          ],
          "name": "stdout"
        }
      ]
    },
    {
      "cell_type": "markdown",
      "metadata": {
        "id": "kSF92L5u6LW2"
      },
      "source": [
        "## **Stacking Classifier**"
      ]
    },
    {
      "cell_type": "code",
      "metadata": {
        "colab": {
          "base_uri": "https://localhost:8080/"
        },
        "id": "AKL64Vri6L0O",
        "outputId": "46a09c0c-b814-4caa-83b2-e11c5e933a2e"
      },
      "source": [
        "estimators = [('xgb',xgb),('dt', dt)]\n",
        "clf = StackingClassifier(estimators=estimators, final_estimator=GradientBoostingClassifier())\n",
        "clf.fit(X_train, y_train).score(X_test, y_test)\n",
        "\n",
        "# using accuracy_score metric to predict accuracy\n",
        "score = accuracy_score(y_test, y_pred)\n",
        "recallScore = recall_score(y_test, y_pred )\n",
        "precisionScore = precision_score(y_test, y_pred )\n",
        "print(\"Hard Voting Score %.3f\" % score)\n",
        "print(\"Hard Voting Recall Score %.3f\" % recallScore)\n",
        "print(\"Hard Voting Recall Score %.3f\" % precisionScore)"
      ],
      "execution_count": 60,
      "outputs": [
        {
          "output_type": "stream",
          "text": [
            "Hard Voting Score 0.963\n",
            "Hard Voting Recall Score 0.946\n",
            "Hard Voting Recall Score 0.978\n"
          ],
          "name": "stdout"
        }
      ]
    },
    {
      "cell_type": "markdown",
      "metadata": {
        "id": "4erXAcj3-Hzz"
      },
      "source": [
        "## **Hyperparameter Tuning**"
      ]
    },
    {
      "cell_type": "code",
      "metadata": {
        "id": "f9f6004f"
      },
      "source": [
        "log_reg_params = {\"penalty\": ['l1', 'l2'], 'C': [0.001, 0.01, 0.1, 1, 10, 100, 1000]}\n",
        "\n",
        "grid_log_reg = GridSearchCV(LogisticRegression(), log_reg_params)\n",
        "grid_log_reg.fit(X_train, y_train)\n",
        "# We automatically get the logistic regression with the best parameters.\n",
        "log_reg = grid_log_reg.best_estimator_\n",
        "\n",
        "knears_params = {\"n_neighbors\": list(range(2,5,1)), 'algorithm': ['auto', 'ball_tree', 'kd_tree', 'brute']}\n",
        "\n",
        "grid_knears = GridSearchCV(KNeighborsClassifier(), knears_params)\n",
        "grid_knears.fit(X_train, y_train)\n",
        "# KNears best estimator\n",
        "knears_neighbors = grid_knears.best_estimator_\n",
        "\n",
        "# Support Vector Classifier\n",
        "svc_params = {'C': [0.5, 0.7, 0.9, 1], 'kernel': ['rbf', 'poly', 'sigmoid', 'linear']}\n",
        "grid_svc = GridSearchCV(SVC(), svc_params)\n",
        "grid_svc.fit(X_train, y_train)\n",
        "\n",
        "# SVC best estimator\n",
        "svc = grid_svc.best_estimator_\n",
        "\n",
        "# DecisionTree Classifier\n",
        "tree_params = {\"criterion\": [\"gini\", \"entropy\"], \"max_depth\": list(range(2,4,1)), \n",
        "              \"min_samples_leaf\": list(range(5,7,1))}\n",
        "grid_tree = GridSearchCV(DecisionTreeClassifier(), tree_params)\n",
        "grid_tree.fit(X_train, y_train)\n",
        "tree_clf = grid_tree.best_estimator_\n"
      ],
      "execution_count": 62,
      "outputs": []
    },
    {
      "cell_type": "code",
      "metadata": {
        "id": "22f01f9f",
        "colab": {
          "base_uri": "https://localhost:8080/"
        },
        "outputId": "17d383d1-2f41-49c7-f037-74849addea47"
      },
      "source": [
        "log_reg_score = cross_val_score(log_reg, X_train, y_train, cv=5)\n",
        "print('Logistic Regression Cross Validation Score: ', round(log_reg_score.mean() * 100, 2).astype(str) + '%')\n",
        "\n",
        "\n",
        "knears_score = cross_val_score(knears_neighbors, X_train, y_train, cv=5)\n",
        "print('Knears Neighbors Cross Validation Score', round(knears_score.mean() * 100, 2).astype(str) + '%')\n",
        "\n",
        "svc_score = cross_val_score(svc, X_train, y_train, cv=5)\n",
        "print('Support Vector Classifier Cross Validation Score', round(svc_score.mean() * 100, 2).astype(str) + '%')\n",
        "\n",
        "tree_score = cross_val_score(tree_clf, X_train, y_train, cv=5)\n",
        "print('DecisionTree Classifier Cross Validation Score', round(tree_score.mean() * 100, 2).astype(str) + '%')"
      ],
      "execution_count": 63,
      "outputs": [
        {
          "output_type": "stream",
          "text": [
            "Logistic Regression Cross Validation Score:  92.72%\n",
            "Knears Neighbors Cross Validation Score 91.8%\n",
            "Support Vector Classifier Cross Validation Score 92.72%\n",
            "DecisionTree Classifier Cross Validation Score 91.0%\n"
          ],
          "name": "stdout"
        }
      ]
    },
    {
      "cell_type": "code",
      "metadata": {
        "id": "98100848",
        "colab": {
          "base_uri": "https://localhost:8080/",
          "height": 858
        },
        "outputId": "1f488c0a-4871-4c61-da5f-54cf605698a4"
      },
      "source": [
        "# Let's Plot LogisticRegression Learning Curve\n",
        "from sklearn.model_selection import ShuffleSplit\n",
        "from sklearn.model_selection import learning_curve\n",
        "\n",
        "def plot_learning_curve(estimator1, estimator2, estimator3, estimator4, X, y, ylim=None, cv=None,\n",
        "                        n_jobs=1, train_sizes=np.linspace(.1, 1.0, 5)):\n",
        "    f, ((ax1, ax2), (ax3, ax4)) = plt.subplots(2,2, figsize=(20,14), sharey=True)\n",
        "    if ylim is not None:\n",
        "        plt.ylim(*ylim)\n",
        "    # First Estimator\n",
        "    train_sizes, train_scores, test_scores = learning_curve(\n",
        "        estimator1, X, y, cv=cv, n_jobs=n_jobs, train_sizes=train_sizes)\n",
        "    train_scores_mean = np.mean(train_scores, axis=1)\n",
        "    train_scores_std = np.std(train_scores, axis=1)\n",
        "    test_scores_mean = np.mean(test_scores, axis=1)\n",
        "    test_scores_std = np.std(test_scores, axis=1)\n",
        "    ax1.fill_between(train_sizes, train_scores_mean - train_scores_std,\n",
        "                     train_scores_mean + train_scores_std, alpha=0.1,\n",
        "                     color=\"#ff9124\")\n",
        "    ax1.fill_between(train_sizes, test_scores_mean - test_scores_std,\n",
        "                     test_scores_mean + test_scores_std, alpha=0.1, color=\"#2492ff\")\n",
        "    ax1.plot(train_sizes, train_scores_mean, 'o-', color=\"#ff9124\",\n",
        "             label=\"Training score\")\n",
        "    ax1.plot(train_sizes, test_scores_mean, 'o-', color=\"#2492ff\",\n",
        "             label=\"Cross-validation score\")\n",
        "    ax1.set_title(\"Logistic Regression Learning Curve\", fontsize=14)\n",
        "    ax1.set_xlabel('Training size (m)')\n",
        "    ax1.set_ylabel('Score')\n",
        "    ax1.grid(True)\n",
        "    ax1.legend(loc=\"best\")\n",
        "    \n",
        "    # Second Estimator \n",
        "    train_sizes, train_scores, test_scores = learning_curve(\n",
        "        estimator2, X, y, cv=cv, n_jobs=n_jobs, train_sizes=train_sizes)\n",
        "    train_scores_mean = np.mean(train_scores, axis=1)\n",
        "    train_scores_std = np.std(train_scores, axis=1)\n",
        "    test_scores_mean = np.mean(test_scores, axis=1)\n",
        "    test_scores_std = np.std(test_scores, axis=1)\n",
        "    ax2.fill_between(train_sizes, train_scores_mean - train_scores_std,\n",
        "                     train_scores_mean + train_scores_std, alpha=0.1,\n",
        "                     color=\"#ff9124\")\n",
        "    ax2.fill_between(train_sizes, test_scores_mean - test_scores_std,\n",
        "                     test_scores_mean + test_scores_std, alpha=0.1, color=\"#2492ff\")\n",
        "    ax2.plot(train_sizes, train_scores_mean, 'o-', color=\"#ff9124\",\n",
        "             label=\"Training score\")\n",
        "    ax2.plot(train_sizes, test_scores_mean, 'o-', color=\"#2492ff\",\n",
        "             label=\"Cross-validation score\")\n",
        "    ax2.set_title(\"Knears Neighbors Learning Curve\", fontsize=14)\n",
        "    ax2.set_xlabel('Training size (m)')\n",
        "    ax2.set_ylabel('Score')\n",
        "    ax2.grid(True)\n",
        "    ax2.legend(loc=\"best\")\n",
        "    \n",
        "    # Third Estimator\n",
        "    train_sizes, train_scores, test_scores = learning_curve(\n",
        "        estimator3, X, y, cv=cv, n_jobs=n_jobs, train_sizes=train_sizes)\n",
        "    train_scores_mean = np.mean(train_scores, axis=1)\n",
        "    train_scores_std = np.std(train_scores, axis=1)\n",
        "    test_scores_mean = np.mean(test_scores, axis=1)\n",
        "    test_scores_std = np.std(test_scores, axis=1)\n",
        "    ax3.fill_between(train_sizes, train_scores_mean - train_scores_std,\n",
        "                     train_scores_mean + train_scores_std, alpha=0.1,\n",
        "                     color=\"#ff9124\")\n",
        "    ax3.fill_between(train_sizes, test_scores_mean - test_scores_std,\n",
        "                     test_scores_mean + test_scores_std, alpha=0.1, color=\"#2492ff\")\n",
        "    ax3.plot(train_sizes, train_scores_mean, 'o-', color=\"#ff9124\",\n",
        "             label=\"Training score\")\n",
        "    ax3.plot(train_sizes, test_scores_mean, 'o-', color=\"#2492ff\",\n",
        "             label=\"Cross-validation score\")\n",
        "    ax3.set_title(\"Support Vector Classifier \\n Learning Curve\", fontsize=14)\n",
        "    ax3.set_xlabel('Training size (m)')\n",
        "    ax3.set_ylabel('Score')\n",
        "    ax3.grid(True)\n",
        "    ax3.legend(loc=\"best\")\n",
        "    \n",
        "    # Fourth Estimator\n",
        "    train_sizes, train_scores, test_scores = learning_curve(\n",
        "        estimator4, X, y, cv=cv, n_jobs=n_jobs, train_sizes=train_sizes)\n",
        "    train_scores_mean = np.mean(train_scores, axis=1)\n",
        "    train_scores_std = np.std(train_scores, axis=1)\n",
        "    test_scores_mean = np.mean(test_scores, axis=1)\n",
        "    test_scores_std = np.std(test_scores, axis=1)\n",
        "    ax4.fill_between(train_sizes, train_scores_mean - train_scores_std,\n",
        "                     train_scores_mean + train_scores_std, alpha=0.1,\n",
        "                     color=\"#ff9124\")\n",
        "    ax4.fill_between(train_sizes, test_scores_mean - test_scores_std,\n",
        "                     test_scores_mean + test_scores_std, alpha=0.1, color=\"#2492ff\")\n",
        "    ax4.plot(train_sizes, train_scores_mean, 'o-', color=\"#ff9124\",\n",
        "             label=\"Training score\")\n",
        "    ax4.plot(train_sizes, test_scores_mean, 'o-', color=\"#2492ff\",\n",
        "             label=\"Cross-validation score\")\n",
        "    ax4.set_title(\"Decision Tree Classifier \\n Learning Curve\", fontsize=14)\n",
        "    ax4.set_xlabel('Training size (m)')\n",
        "    ax4.set_ylabel('Score')\n",
        "    ax4.grid(True)\n",
        "    ax4.legend(loc=\"best\")\n",
        "    return plt\n",
        "\n",
        "cv = ShuffleSplit(n_splits=100, test_size=0.2, random_state=42)\n",
        "plot_learning_curve(log_reg, knears_neighbors, svc, tree_clf, X_train, y_train, (0.87, 1.01), cv=cv, n_jobs=4)"
      ],
      "execution_count": 64,
      "outputs": [
        {
          "output_type": "execute_result",
          "data": {
            "text/plain": [
              "<module 'matplotlib.pyplot' from '/usr/local/lib/python3.7/dist-packages/matplotlib/pyplot.py'>"
            ]
          },
          "metadata": {
            "tags": []
          },
          "execution_count": 64
        },
        {
          "output_type": "display_data",
          "data": {
            "image/png": "[encoded data removed]",
            "text/plain": [
              "<Figure size 1440x1008 with 4 Axes>"
            ]
          },
          "metadata": {
            "tags": [],
            "needs_background": "light"
          }
        }
      ]
    },
    {
      "cell_type": "code",
      "metadata": {
        "id": "85c67e16"
      },
      "source": [
        "# Create a DataFrame with all the scores and the classifiers names.\n",
        "\n",
        "log_reg_pred = cross_val_predict(log_reg, X_train, y_train, cv=5,\n",
        "                             method=\"decision_function\")\n",
        "\n",
        "knears_pred = cross_val_predict(knears_neighbors, X_train, y_train, cv=5)\n",
        "\n",
        "svc_pred = cross_val_predict(svc, X_train, y_train, cv=5,\n",
        "                             method=\"decision_function\")\n",
        "\n",
        "tree_pred = cross_val_predict(tree_clf, X_train, y_train, cv=5)\n"
      ],
      "execution_count": 65,
      "outputs": []
    },
    {
      "cell_type": "code",
      "metadata": {
        "id": "b113026b",
        "colab": {
          "base_uri": "https://localhost:8080/"
        },
        "outputId": "6932a3ff-cd9d-4beb-c010-0226f260ae47"
      },
      "source": [
        "print('Logistic Regression: ', roc_auc_score(y_train, log_reg_pred))\n",
        "print('KNears Neighbors: ', roc_auc_score(y_train, knears_pred))\n",
        "print('Support Vector Classifier: ', roc_auc_score(y_train, svc_pred))\n",
        "print('Decision Tree Classifier: ', roc_auc_score(y_train, tree_pred))"
      ],
      "execution_count": 66,
      "outputs": [
        {
          "output_type": "stream",
          "text": [
            "Logistic Regression:  0.9681061030235163\n",
            "KNears Neighbors:  0.9181690929451288\n",
            "Support Vector Classifier:  0.96976483762598\n",
            "Decision Tree Classifier:  0.9102323628219485\n"
          ],
          "name": "stdout"
        }
      ]
    },
    {
      "cell_type": "code",
      "metadata": {
        "id": "a9bcf3c7",
        "colab": {
          "base_uri": "https://localhost:8080/",
          "height": 543
        },
        "outputId": "68ee689c-f400-4efb-fff7-c44148519eb6"
      },
      "source": [
        "log_fpr, log_tpr, log_thresold = roc_curve(y_train, log_reg_pred)\n",
        "knear_fpr, knear_tpr, knear_threshold = roc_curve(y_train, knears_pred)\n",
        "svc_fpr, svc_tpr, svc_threshold = roc_curve(y_train, svc_pred)\n",
        "tree_fpr, tree_tpr, tree_threshold = roc_curve(y_train, tree_pred)\n",
        "\n",
        "\n",
        "def graph_roc_curve_multiple(log_fpr, log_tpr, knear_fpr, knear_tpr, svc_fpr, svc_tpr, tree_fpr, tree_tpr):\n",
        "    plt.figure(figsize=(16,8))\n",
        "    plt.title('ROC Curve \\n Top 4 Classifiers', fontsize=18)\n",
        "    plt.plot(log_fpr, log_tpr, label='Logistic Regression Classifier Score: {:.4f}'.format(roc_auc_score(y_train, log_reg_pred)))\n",
        "    plt.plot(knear_fpr, knear_tpr, label='KNears Neighbors Classifier Score: {:.4f}'.format(roc_auc_score(y_train, knears_pred)))\n",
        "    plt.plot(svc_fpr, svc_tpr, label='Support Vector Classifier Score: {:.4f}'.format(roc_auc_score(y_train, svc_pred)))\n",
        "    plt.plot(tree_fpr, tree_tpr, label='Decision Tree Classifier Score: {:.4f}'.format(roc_auc_score(y_train, tree_pred)))\n",
        "    plt.plot([0, 1], [0, 1], 'k--')\n",
        "    plt.axis([-0.01, 1, 0, 1])\n",
        "    plt.xlabel('False Positive Rate', fontsize=16)\n",
        "    plt.ylabel('True Positive Rate', fontsize=16)\n",
        "    plt.annotate('Minimum ROC Score of 50% \\n (This is the minimum score to get)', xy=(0.5, 0.5), xytext=(0.6, 0.3),\n",
        "                arrowprops=dict(facecolor='#6E726D', shrink=0.05),\n",
        "                )\n",
        "    plt.legend()\n",
        "    \n",
        "graph_roc_curve_multiple(log_fpr, log_tpr, knear_fpr, knear_tpr, svc_fpr, svc_tpr, tree_fpr, tree_tpr)\n",
        "plt.show()"
      ],
      "execution_count": 67,
      "outputs": [
        {
          "output_type": "display_data",
          "data": {
            "image/png": "[encoded data removed]",
            "text/plain": [
              "<Figure size 1152x576 with 1 Axes>"
            ]
          },
          "metadata": {
            "tags": [],
            "needs_background": "light"
          }
        }
      ]
    },
    {
      "cell_type": "code",
      "metadata": {
        "id": "c6570f4a",
        "outputId": "7fbd361d-4318-4f94-8300-f95844413f9a"
      },
      "source": [
        "from sklearn.metrics import precision_recall_curve\n",
        "\n",
        "precision, recall, threshold = precision_recall_curve(y_train, log_reg_pred)\n",
        "from sklearn.metrics import recall_score, precision_score, f1_score, accuracy_score\n",
        "y_pred = log_reg.predict(X_train)\n",
        "\n",
        "print('---' * 45)\n",
        "# print('Overfitting: \\n')\n",
        "print('Recall Score: {:.2f}'.format(recall_score(y_train, y_pred)))\n",
        "print('Precision Score: {:.2f}'.format(precision_score(y_train, y_pred)))\n",
        "print('F1 Score: {:.2f}'.format(f1_score(y_train, y_pred)))\n",
        "print('Accuracy Score: {:.2f}'.format(accuracy_score(y_train, y_pred)))\n",
        "print('---' * 45)\n"
      ],
      "execution_count": null,
      "outputs": [
        {
          "output_type": "stream",
          "text": [
            "---------------------------------------------------------------------------------------------------------------------------------------\n",
            "Overfitting: \n",
            "\n",
            "Recall Score: 0.91\n",
            "Precision Score: 0.97\n",
            "F1 Score: 0.94\n",
            "Accuracy Score: 0.94\n",
            "---------------------------------------------------------------------------------------------------------------------------------------\n"
          ],
          "name": "stdout"
        }
      ]
    },
    {
      "cell_type": "markdown",
      "metadata": {
        "id": "EwGiDdmaXzxF"
      },
      "source": [
        "## **Using Tensorflow**"
      ]
    },
    {
      "cell_type": "code",
      "metadata": {
        "id": "pdgbJNEshNfx"
      },
      "source": [
        "seed = 32\n",
        "\n",
        "X_train,X_test,y_train,y_test = train_test_split(finalFeatures,\n",
        "                                                label,\n",
        "                                                test_size=0.2,\n",
        "                                                random_state = seed)\n",
        "tf.random.set_seed(seed)\n",
        "np.random.seed(seed)"
      ],
      "execution_count": 68,
      "outputs": []
    },
    {
      "cell_type": "code",
      "metadata": {
        "id": "xML-gakf4kvy",
        "colab": {
          "base_uri": "https://localhost:8080/"
        },
        "outputId": "a1f183cc-a56a-4cb2-d25c-c7b29758f0e1"
      },
      "source": [
        "# Architect the model\n",
        "\n",
        "modelKeras = tf.keras.models.Sequential()\n",
        "modelKeras.add(tf.keras.layers.Dropout(0.2))\n",
        "modelKeras.add(tf.keras.layers.Dense( units = 1024, activation= 'relu',input_dim = 15))\n",
        "modelKeras.add(tf.keras.layers.Dense( units = 256, activation= 'relu'))\n",
        "modelKeras.add(tf.keras.layers.Dropout(0.25))\n",
        "modelKeras.add(tf.keras.layers.Dense( units = 128, activation= 'relu'))\n",
        "modelKeras.add(tf.keras.layers.Dropout(0.25))\n",
        "modelKeras.add(tf.keras.layers.Dense( units = 64, activation= 'relu'))\n",
        "modelKeras.add(tf.keras.layers.Dropout(0.2))\n",
        "modelKeras.add(tf.keras.layers.Dense( units = 32, activation= 'relu'))\n",
        "modelKeras.add(tf.keras.layers.Dense( units = 1, activation= 'sigmoid' ))\n",
        "\n",
        "# Compile model\n",
        "modelKeras.compile(#optimizer = \"Adam\" , \n",
        "              optimizer=tf.keras.optimizers.Adam(learning_rate=0.001),\n",
        "              loss = 'binary_crossentropy', \n",
        "              metrics = ['accuracy'])\n",
        "\n",
        "earlyStopping = tf.keras.callbacks.EarlyStopping(monitor='accuracy', \n",
        "                                                 verbose=4,\n",
        "                                                 patience=10,\n",
        "                                                 mode='max',\n",
        "                                                 restore_best_weights=True)\n",
        "\n",
        "\n",
        "#Custom Callback\n",
        "class MyThresholdCallback(tf.keras.callbacks.Callback):\n",
        "    def __init__(self, cl):\n",
        "        super(MyThresholdCallback, self).__init__()\n",
        "        self.cl = cl\n",
        "        \n",
        "    def on_epoch_end(self, epoch, logs=None):\n",
        "        test_score = logs[\"val_accuracy\"]\n",
        "        train_score = logs[\"accuracy\"]\n",
        "        if ( test_score > train_score and test_score > self.cl ) or test_score == 1 :\n",
        "            self.model.stop_training = True\n",
        "            \n",
        "\n",
        "myScoreMonitor = MyThresholdCallback(cl=0.93)\n",
        "\n",
        "epoch_hist = modelKeras.fit(X_train,\n",
        "                       y_train,\n",
        "                       epochs=200,\n",
        "                       validation_data=(X_test,y_test),\n",
        "                       callbacks= [earlyStopping] )"
      ],
      "execution_count": 86,
      "outputs": [
        {
          "output_type": "stream",
          "text": [
            "Epoch 1/200\n",
            "24/24 [==============================] - 1s 11ms/step - loss: 0.4149 - accuracy: 0.7593 - val_loss: 0.2522 - val_accuracy: 0.9316\n",
            "Epoch 2/200\n",
            "24/24 [==============================] - 0s 4ms/step - loss: 0.2841 - accuracy: 0.9140 - val_loss: 0.2008 - val_accuracy: 0.9421\n",
            "Epoch 3/200\n",
            "24/24 [==============================] - 0s 4ms/step - loss: 0.2382 - accuracy: 0.9299 - val_loss: 0.2180 - val_accuracy: 0.9263\n",
            "Epoch 4/200\n",
            "24/24 [==============================] - 0s 4ms/step - loss: 0.2147 - accuracy: 0.9286 - val_loss: 0.2055 - val_accuracy: 0.9316\n",
            "Epoch 5/200\n",
            "24/24 [==============================] - 0s 4ms/step - loss: 0.1685 - accuracy: 0.9378 - val_loss: 0.2006 - val_accuracy: 0.9421\n",
            "Epoch 6/200\n",
            "24/24 [==============================] - 0s 4ms/step - loss: 0.1731 - accuracy: 0.9312 - val_loss: 0.2074 - val_accuracy: 0.9368\n",
            "Epoch 7/200\n",
            "24/24 [==============================] - 0s 4ms/step - loss: 0.1716 - accuracy: 0.9193 - val_loss: 0.2185 - val_accuracy: 0.9316\n",
            "Epoch 8/200\n",
            "24/24 [==============================] - 0s 4ms/step - loss: 0.1666 - accuracy: 0.9352 - val_loss: 0.2206 - val_accuracy: 0.9368\n",
            "Epoch 9/200\n",
            "24/24 [==============================] - 0s 4ms/step - loss: 0.1910 - accuracy: 0.9312 - val_loss: 0.1995 - val_accuracy: 0.9316\n",
            "Epoch 10/200\n",
            "24/24 [==============================] - 0s 5ms/step - loss: 0.1575 - accuracy: 0.9286 - val_loss: 0.2024 - val_accuracy: 0.9263\n",
            "Epoch 11/200\n",
            "24/24 [==============================] - 0s 4ms/step - loss: 0.1369 - accuracy: 0.9484 - val_loss: 0.2130 - val_accuracy: 0.9263\n",
            "Epoch 12/200\n",
            "24/24 [==============================] - 0s 5ms/step - loss: 0.1741 - accuracy: 0.9378 - val_loss: 0.1867 - val_accuracy: 0.9368\n",
            "Epoch 13/200\n",
            "24/24 [==============================] - 0s 4ms/step - loss: 0.1750 - accuracy: 0.9392 - val_loss: 0.1834 - val_accuracy: 0.9263\n",
            "Epoch 14/200\n",
            "24/24 [==============================] - 0s 4ms/step - loss: 0.1373 - accuracy: 0.9458 - val_loss: 0.1790 - val_accuracy: 0.9526\n",
            "Epoch 15/200\n",
            "24/24 [==============================] - 0s 4ms/step - loss: 0.1363 - accuracy: 0.9484 - val_loss: 0.1886 - val_accuracy: 0.9421\n",
            "Epoch 16/200\n",
            "24/24 [==============================] - 0s 4ms/step - loss: 0.1533 - accuracy: 0.9378 - val_loss: 0.1942 - val_accuracy: 0.9368\n",
            "Epoch 17/200\n",
            "24/24 [==============================] - 0s 4ms/step - loss: 0.1532 - accuracy: 0.9365 - val_loss: 0.1958 - val_accuracy: 0.9526\n",
            "Epoch 18/200\n",
            "24/24 [==============================] - 0s 4ms/step - loss: 0.1166 - accuracy: 0.9511 - val_loss: 0.2154 - val_accuracy: 0.9316\n",
            "Epoch 19/200\n",
            "24/24 [==============================] - 0s 4ms/step - loss: 0.1245 - accuracy: 0.9577 - val_loss: 0.2077 - val_accuracy: 0.9368\n",
            "Epoch 20/200\n",
            "24/24 [==============================] - 0s 4ms/step - loss: 0.1530 - accuracy: 0.9471 - val_loss: 0.2103 - val_accuracy: 0.9421\n",
            "Epoch 21/200\n",
            "24/24 [==============================] - 0s 4ms/step - loss: 0.1429 - accuracy: 0.9458 - val_loss: 0.2021 - val_accuracy: 0.9474\n",
            "Epoch 22/200\n",
            "24/24 [==============================] - 0s 4ms/step - loss: 0.1456 - accuracy: 0.9431 - val_loss: 0.1891 - val_accuracy: 0.9526\n",
            "Epoch 23/200\n",
            "24/24 [==============================] - 0s 4ms/step - loss: 0.1412 - accuracy: 0.9458 - val_loss: 0.1893 - val_accuracy: 0.9368\n",
            "Epoch 24/200\n",
            "24/24 [==============================] - 0s 5ms/step - loss: 0.1348 - accuracy: 0.9378 - val_loss: 0.2026 - val_accuracy: 0.9474\n",
            "Epoch 25/200\n",
            "24/24 [==============================] - 0s 4ms/step - loss: 0.1230 - accuracy: 0.9458 - val_loss: 0.2099 - val_accuracy: 0.9579\n",
            "Epoch 26/200\n",
            "24/24 [==============================] - 0s 4ms/step - loss: 0.1040 - accuracy: 0.9524 - val_loss: 0.2146 - val_accuracy: 0.9526\n",
            "Epoch 27/200\n",
            "24/24 [==============================] - 0s 4ms/step - loss: 0.1385 - accuracy: 0.9484 - val_loss: 0.2265 - val_accuracy: 0.9368\n",
            "Epoch 28/200\n",
            "24/24 [==============================] - 0s 4ms/step - loss: 0.1177 - accuracy: 0.9458 - val_loss: 0.2118 - val_accuracy: 0.9474\n",
            "Epoch 29/200\n",
            "24/24 [==============================] - 0s 4ms/step - loss: 0.1460 - accuracy: 0.9392 - val_loss: 0.2119 - val_accuracy: 0.9368\n",
            "Restoring model weights from the end of the best epoch.\n",
            "Epoch 00029: early stopping\n"
          ],
          "name": "stdout"
        }
      ]
    },
    {
      "cell_type": "code",
      "metadata": {
        "id": "A87spvS84xNk",
        "colab": {
          "base_uri": "https://localhost:8080/",
          "height": 283
        },
        "outputId": "6a756fa6-d3d9-46b5-8a39-2ad6cbe1cab2"
      },
      "source": [
        "plt.plot(epoch_hist.history['accuracy'])\n",
        "plt.plot(epoch_hist.history['val_accuracy'])\n",
        "plt.legend(['accuracy','val_accuracy' ])"
      ],
      "execution_count": 80,
      "outputs": [
        {
          "output_type": "execute_result",
          "data": {
            "text/plain": [
              "<matplotlib.legend.Legend at 0x7fd89e27c250>"
            ]
          },
          "metadata": {
            "tags": []
          },
          "execution_count": 80
        },
        {
          "output_type": "display_data",
          "data": {
            "image/png": "[encoded data removed]",
            "text/plain": [
              "<Figure size 432x288 with 1 Axes>"
            ]
          },
          "metadata": {
            "tags": [],
            "needs_background": "light"
          }
        }
      ]
    },
    {
      "cell_type": "code",
      "metadata": {
        "id": "qQgzv8MMjKpR",
        "colab": {
          "base_uri": "https://localhost:8080/"
        },
        "outputId": "3b86f95e-d18a-4b9d-9a4f-12e88d4108f8"
      },
      "source": [
        "predlabel= modelKeras.predict_classes(X_test)\n",
        "confusion_matrix(y_test,predlabel)"
      ],
      "execution_count": 87,
      "outputs": [
        {
          "output_type": "execute_result",
          "data": {
            "text/plain": [
              "array([[89,  5],\n",
              "       [ 7, 89]])"
            ]
          },
          "metadata": {
            "tags": []
          },
          "execution_count": 87
        }
      ]
    },
    {
      "cell_type": "code",
      "metadata": {
        "id": "Bs0PMLIh-mz8"
      },
      "source": [
        "probabilityValues = modelKeras.predict(X_test)\n",
        "precision,recall,_ = precision_recall_curve(y_test, probabilityValues)"
      ],
      "execution_count": 90,
      "outputs": []
    },
    {
      "cell_type": "code",
      "metadata": {
        "id": "pd4QHhTp-npG",
        "colab": {
          "base_uri": "https://localhost:8080/"
        },
        "outputId": "f1358534-47bf-415f-c84e-9e4ba66b8c3b"
      },
      "source": [
        "auc_keras = auc(recall, precision)\n",
        "auc_keras"
      ],
      "execution_count": 91,
      "outputs": [
        {
          "output_type": "execute_result",
          "data": {
            "text/plain": [
              "0.9815848177482673"
            ]
          },
          "metadata": {
            "tags": []
          },
          "execution_count": 91
        }
      ]
    },
    {
      "cell_type": "code",
      "metadata": {
        "id": "ARPnZEY--1Zo",
        "colab": {
          "base_uri": "https://localhost:8080/",
          "height": 295
        },
        "outputId": "ce262898-7104-4c9d-fb8e-786527491e90"
      },
      "source": [
        "plt.figure(1)\n",
        "plt.plot([0, 1], [0.5, 0.5], 'k--')\n",
        "plt.plot(recall, precision, label='Keras (area = {:.3f})'.format(auc_keras))\n",
        "plt.xlabel('False positive rate')\n",
        "plt.ylabel('True positive rate')\n",
        "plt.title('PR curve')\n",
        "plt.legend(loc='best')\n",
        "plt.show()"
      ],
      "execution_count": 92,
      "outputs": [
        {
          "output_type": "display_data",
          "data": {
            "image/png": "[encoded data removed]",
            "text/plain": [
              "<Figure size 432x288 with 1 Axes>"
            ]
          },
          "metadata": {
            "tags": [],
            "needs_background": "light"
          }
        }
      ]
    },
    {
      "cell_type": "markdown",
      "metadata": {
        "id": "OmVETskQBB20"
      },
      "source": [
        "## **Using SMOTE to Balance the Data**"
      ]
    },
    {
      "cell_type": "code",
      "metadata": {
        "id": "f8e4e43a",
        "colab": {
          "base_uri": "https://localhost:8080/"
        },
        "outputId": "a553efb8-96a6-4090-ce1f-8a5e49d52ffb"
      },
      "source": [
        "print('Length of X (train): {} | Length of y (train): {}'.format(len(original_Xtrain), len(original_ytrain)))\n",
        "print('Length of X (test): {} | Length of y (test): {}'.format(len(original_Xtest), len(original_ytest)))\n",
        "\n",
        "# List to append the score and then find the average\n",
        "accuracy_lst = []\n",
        "precision_lst = []\n",
        "recall_lst = []\n",
        "f1_lst = []\n",
        "auc_lst = []\n",
        "\n",
        "# Classifier with optimal parameters\n",
        "# log_reg_sm = grid_log_reg.best_estimator_\n",
        "log_reg_sm = LogisticRegression()\n",
        "\n",
        "\n",
        "rand_log_reg = RandomizedSearchCV(LogisticRegression(), log_reg_params, n_iter=4)\n",
        "log_reg_params = {\"penalty\": ['l1', 'l2'], 'C': [0.001, 0.01, 0.1, 1, 10, 100, 1000]}\n",
        "for train, test in sss.split(original_Xtrain, original_ytrain):\n",
        "    pipeline = imbalanced_make_pipeline(SMOTE(sampling_strategy='minority'), rand_log_reg) # SMOTE happens during Cross Validation not before..\n",
        "    model = pipeline.fit(original_Xtrain[train], original_ytrain[train])\n",
        "    best_est = rand_log_reg.best_estimator_\n",
        "    prediction = best_est.predict(original_Xtrain[test])\n",
        "    \n",
        "    accuracy_lst.append(pipeline.score(original_Xtrain[test], original_ytrain[test]))\n",
        "    precision_lst.append(precision_score(original_ytrain[test], prediction))\n",
        "    recall_lst.append(recall_score(original_ytrain[test], prediction))\n",
        "    f1_lst.append(f1_score(original_ytrain[test], prediction))\n",
        "    auc_lst.append(roc_auc_score(original_ytrain[test], prediction))\n",
        "    \n",
        "print('---' * 45)\n",
        "print('')\n",
        "print(\"accuracy: {}\".format(np.mean(accuracy_lst)))\n",
        "print(\"precision: {}\".format(np.mean(precision_lst)))\n",
        "print(\"recall: {}\".format(np.mean(recall_lst)))\n",
        "print(\"f1: {}\".format(np.mean(f1_lst)))\n",
        "print('---' * 45)\n"
      ],
      "execution_count": 100,
      "outputs": [
        {
          "output_type": "stream",
          "text": [
            "Length of X (train): 757 | Length of y (train): 757\n",
            "Length of X (test): 189 | Length of y (test): 189\n",
            "---------------------------------------------------------------------------------------------------------------------------------------\n",
            "\n",
            "accuracy: 0.9325287556639944\n",
            "precision: 0.9741700713024738\n",
            "recall: 0.8891228070175441\n",
            "f1: 0.9287094016841726\n",
            "---------------------------------------------------------------------------------------------------------------------------------------\n"
          ],
          "name": "stdout"
        }
      ]
    },
    {
      "cell_type": "code",
      "metadata": {
        "id": "VbVXtFGj8u9L"
      },
      "source": [
        ""
      ],
      "execution_count": null,
      "outputs": []
    }
  ]
}